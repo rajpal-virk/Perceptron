{
 "cells": [
  {
   "cell_type": "markdown",
   "metadata": {},
   "source": [
    "# Neural Networks \n",
    "## Single Layer Perceptron\n",
    "\n",
    "Author: Rajpal Virk"
   ]
  },
  {
   "cell_type": "markdown",
   "metadata": {},
   "source": [
    "### Build a single layer perceptron model from scratch in Python using only standard library (NumPy). "
   ]
  },
  {
   "cell_type": "markdown",
   "metadata": {},
   "source": [
    "Steps Involved:\n",
    "1. Build a single layer perceptron model from scratch in Python using only NumPy library.\n",
    "2. Deploy and Evaluate Model\n",
    "    - Load dataset\n",
    "    - Preprocess dataset\n",
    "        - If dataset is multi-class classification problem, extract data related to 2 classes from this multiclass classification problem.\n",
    "        - Split data in Train and Test data\n",
    "    - Train model and evaluate model"
   ]
  },
  {
   "cell_type": "markdown",
   "metadata": {},
   "source": [
    "### 1. Build a single layer perceptron model from scratch in Python using only NumPy library."
   ]
  },
  {
   "cell_type": "code",
   "execution_count": 1,
   "metadata": {},
   "outputs": [],
   "source": [
    "# import required library to build model\n",
    "import numpy as np \n",
    "\n",
    "# Building Class Object\n",
    "class SLP(object):\n",
    "    \n",
    "    \n",
    "    # Initializing parameters\n",
    "    def __init__(self, learning_rate, epochs, X):\n",
    "        \n",
    "        '''\n",
    "        We will initalize the key parameters of model.\n",
    "        4 key parameters are:\n",
    "        1. Learning Rate    : Positive float value that can be controlled by user. \n",
    "        2. Epochs           : Positive integer value that can be controlled by user.\n",
    "        3. Synaptic Weights : Weights in matrix form (no. of features x 1)\n",
    "        4. Bias             : Positive integer or float that can be controlled by user.\n",
    "        '''\n",
    "        \n",
    "        self.learning_rate = learning_rate\n",
    "        self.epochs = epochs\n",
    "        self.weights = np.zeros(X.shape[1]) \n",
    "        self.bias = float(1)\n",
    "        pass\n",
    "    \n",
    "    \n",
    "    \n",
    "    # Calculating Linear Combiner Output\n",
    "    def adder(self, X):\n",
    "        '''\n",
    "        This function will result in linear weighted sum of sample data, syntapic weights and bias.\n",
    "        Sample data is in the matrix form (1 x number of features) and is also known as input signals.\n",
    "        Synaptic weights are weights assigned to the input signals. \n",
    "        '''\n",
    "        return (np.dot(X, self.weights) + self.bias)\n",
    "               \n",
    "        \n",
    "        \n",
    "        \n",
    "    # Predicting Neuron Output\n",
    "    def predict(self, X):\n",
    "        '''\n",
    "        This function calculates the activation potential and by using an \n",
    "        activation function predicts the class label.\n",
    "        Activation function for this model is set at 0.5 i.e. if activation potential\n",
    "        for given sample (or input signal) is below this value, model predicts that\n",
    "        sample data point belongs to class 0, \n",
    "        else model predicts that sample datapoint belongs to class 1.\n",
    "        '''\n",
    "        \n",
    "        predicted_output = np.where(self.adder(X) >= 0.5, 1 , 0)\n",
    "        return predicted_output\n",
    "        \n",
    "    \n",
    "    # Learning Process\n",
    "    # Calculating errors, updating weights and training Model\n",
    "    def fit(self, X, Y):\n",
    "        '''\n",
    "        This fit function is used to train the model.\n",
    "        Errors are calculated by finding difference between desired output and predicted output.\n",
    "        Weight is updated using leanring algorithm, which modifies the synaptic weights of network \n",
    "        in an orderly fashion so as to attain a desired output class. \n",
    "        '''\n",
    "        \n",
    "        # Empty list to store errors\n",
    "        self.errors = []\n",
    "        \n",
    "        for _ in range(self.epochs):\n",
    "            \n",
    "            # Initiating errors at 0\n",
    "            errors = 0\n",
    "            \n",
    "            # Updating Weights and Calculating Errors \n",
    "            for X_indexed, desired_output in zip(X,Y):\n",
    "                delta_weights = (self.learning_rate * (desired_output - self.predict(X_indexed))) * X_indexed\n",
    "                self.weights += delta_weights\n",
    "                \n",
    "                residual = (desired_output - self.predict(X_indexed))\n",
    "                errors += int(residual !=0.0)\n",
    "            self.errors.append(errors)\n",
    "        return self"
   ]
  },
  {
   "cell_type": "markdown",
   "metadata": {},
   "source": [
    "### Import Libraries for data loading, analysing and visualization"
   ]
  },
  {
   "cell_type": "code",
   "execution_count": 2,
   "metadata": {},
   "outputs": [],
   "source": [
    "# Import required libraries\n",
    "\n",
    "# Load dataset\n",
    "from sklearn.datasets import load_iris\n",
    "\n",
    "# Matplotlib to visualize data\n",
    "from matplotlib import pyplot as plt\n",
    "from matplotlib.colors import ListedColormap\n",
    "\n",
    "# Sklean packages for cross validation and model evaluation\n",
    "from sklearn.model_selection import train_test_split\n",
    "from sklearn.metrics import confusion_matrix\n",
    "from sklearn.metrics import accuracy_score\n",
    "from sklearn.metrics import classification_report\n",
    "\n",
    "\n",
    "# Setting Warning to ignore\n",
    "import warnings\n",
    "warnings.filterwarnings('ignore')"
   ]
  },
  {
   "cell_type": "markdown",
   "metadata": {},
   "source": [
    "### 2. Deploy and Evaluate Model - IRIS Dataset"
   ]
  },
  {
   "cell_type": "code",
   "execution_count": 3,
   "metadata": {},
   "outputs": [
    {
     "name": "stdout",
     "output_type": "stream",
     "text": [
      "Shape of input features, X:  (150, 4)\n",
      "Shape of target labels, y:  (150,)\n",
      "Unique target labels:  [0 1 2]\n"
     ]
    }
   ],
   "source": [
    "# Load Dataset - IRIS\n",
    "\n",
    "X, y = load_iris(return_X_y=True)\n",
    "print(\"Shape of input features, X: \", X.shape)\n",
    "print(\"Shape of target labels, y: \", y.shape)\n",
    "print(\"Unique target labels: \", np.unique(y))"
   ]
  },
  {
   "cell_type": "markdown",
   "metadata": {},
   "source": [
    "From unique target labels list, we can see that the dataset is 3 class classification problem."
   ]
  },
  {
   "cell_type": "code",
   "execution_count": 4,
   "metadata": {},
   "outputs": [
    {
     "name": "stdout",
     "output_type": "stream",
     "text": [
      "Shape of X_train:  (80, 4)\n",
      "Shape of X_test:  (20, 4)\n",
      "Shape of y_train:  (80,)\n",
      "Shape of y_test:  (20,)\n",
      "Unique target labels in y_test:  [0 1]\n"
     ]
    }
   ],
   "source": [
    "# Preprocess dataset\n",
    "\n",
    "# Extracting first 100 data points that belong to class 0 and 1.\n",
    "X = X[:100]\n",
    "y = y[:100]\n",
    "\n",
    "# Split data in Train and Test data\n",
    "X_train, X_test, y_train, y_test = train_test_split(X, y, test_size=0.2, random_state=0)\n",
    "print(\"Shape of X_train: \", X_train.shape)\n",
    "print(\"Shape of X_test: \", X_test.shape)\n",
    "print(\"Shape of y_train: \", y_train.shape)\n",
    "print(\"Shape of y_test: \", y_test.shape)\n",
    "print(\"Unique target labels in y_test: \", np.unique(y_test))"
   ]
  },
  {
   "cell_type": "markdown",
   "metadata": {},
   "source": [
    "**Single layer perceptron results in high accuracy when data is linearly separable. So, it is always a good practice to check whether data is linearly separable or not before deploying single layer perceptron.**"
   ]
  },
  {
   "cell_type": "code",
   "execution_count": 5,
   "metadata": {},
   "outputs": [
    {
     "data": {
      "text/plain": [
       "Text(0.5, 1.0, 'Scatter plot showing 2 classes')"
      ]
     },
     "execution_count": 5,
     "metadata": {},
     "output_type": "execute_result"
    },
    {
     "data": {
      "image/png": "[encoded data removed]",
      "text/plain": [
       "<Figure size 432x288 with 1 Axes>"
      ]
     },
     "metadata": {
      "needs_background": "light"
     },
     "output_type": "display_data"
    }
   ],
   "source": [
    "# Ploting classes to see whether the data is linearly separable or not\n",
    "\n",
    "sepal_length = X[0:50, 0]\n",
    "petal_length = X[0:50, 2]\n",
    "color = 'r'\n",
    "marker = \"o\"\n",
    "label = \"Setosa\"\n",
    "\n",
    "plt.scatter(x = sepal_length, y = petal_length, color = color, marker = marker, label = label)\n",
    "\n",
    "sepal_length = X[50:100, 0]\n",
    "petal_length = X[50:100, 2]\n",
    "color = 'blue'\n",
    "marker = \"x\"\n",
    "label = \"Versicolor\"\n",
    "\n",
    "plt.scatter(x = sepal_length, y = petal_length, color = color, marker = marker, label = label) \n",
    "\n",
    "# Adding X and Y axis labels\n",
    "plt.xlabel(\"Sepal Length (cm)\")\n",
    "plt.ylabel(\"Petal Length (cm)\")\n",
    "\n",
    "# Adding legends\n",
    "location = \"upper left\"\n",
    "plt.legend(loc = location)\n",
    "plt.title(\"Scatter plot showing 2 classes\")"
   ]
  },
  {
   "cell_type": "markdown",
   "metadata": {},
   "source": [
    "**From plot, we can confirm that data is linearly separable.**"
   ]
  },
  {
   "cell_type": "code",
   "execution_count": 6,
   "metadata": {},
   "outputs": [
    {
     "data": {
      "image/png": "[encoded data removed]",
      "text/plain": [
       "<Figure size 432x288 with 1 Axes>"
      ]
     },
     "metadata": {
      "needs_background": "light"
     },
     "output_type": "display_data"
    },
    {
     "name": "stdout",
     "output_type": "stream",
     "text": [
      "########################################################################### \n",
      "\n",
      "Binary classification for class 0 and 1\n",
      "\n",
      " Accuracy Score on Test data:  1.0\n",
      "\n",
      " Confusion Matrix: \n",
      " [[10  0]\n",
      " [ 0 10]]\n",
      "\n",
      " Classification Report: \n",
      "               precision    recall  f1-score   support\n",
      "\n",
      "           0       1.00      1.00      1.00        10\n",
      "           1       1.00      1.00      1.00        10\n",
      "\n",
      "    accuracy                           1.00        20\n",
      "   macro avg       1.00      1.00      1.00        20\n",
      "weighted avg       1.00      1.00      1.00        20\n",
      "\n",
      "########################################################################### \n",
      "\n"
     ]
    }
   ],
   "source": [
    "# Train model and evaluate model\n",
    "\n",
    "model = SLP(learning_rate=0.01, epochs=20, X=X_train)\n",
    "model.fit(X_train, y_train)\n",
    "y_pred = model.predict(X_test)\n",
    "\n",
    "\n",
    "# Check the performance of model by ploting the errors to show whether the errors are dropping\n",
    "epochs = range(1,(1+len(model.errors)))\n",
    "misclassfication = model.errors\n",
    "marker = \"o\"\n",
    "plt.xlabel(\"Number of Iterations\")\n",
    "plt.ylabel(\"Misclassifications\")\n",
    "plt.title('Performance graph showing misclassifications reduction over iterations')\n",
    "plt.plot(epochs,misclassfication,marker = marker)\n",
    "plt.show()\n",
    "\n",
    "print('########################################################################### \\n')\n",
    "print('Binary classification for class 0 and 1')\n",
    "print(\"\\n Accuracy Score on Test data: \", accuracy_score(y_pred, y_test))\n",
    "print(\"\\n Confusion Matrix: \\n\", confusion_matrix(y_pred, y_test))\n",
    "print(\"\\n Classification Report: \\n\", classification_report(y_pred, y_test))\n",
    "print('########################################################################### \\n')"
   ]
  },
  {
   "cell_type": "code",
   "execution_count": 7,
   "metadata": {},
   "outputs": [
    {
     "name": "stderr",
     "output_type": "stream",
     "text": [
      "'c' argument looks like a single numeric RGB or RGBA sequence, which should be avoided as value-mapping will have precedence in case its length matches with 'x' & 'y'.  Please use a 2-D array with a single row if you really want to specify the same RGB or RGBA value for all points.\n",
      "'c' argument looks like a single numeric RGB or RGBA sequence, which should be avoided as value-mapping will have precedence in case its length matches with 'x' & 'y'.  Please use a 2-D array with a single row if you really want to specify the same RGB or RGBA value for all points.\n"
     ]
    },
    {
     "data": {
      "image/png": "[encoded data removed]",
      "text/plain": [
       "<Figure size 432x288 with 1 Axes>"
      ]
     },
     "metadata": {
      "needs_background": "light"
     },
     "output_type": "display_data"
    }
   ],
   "source": [
    "# Defining function to plot decision boundary\n",
    "def decision_boundry(X, y, classifier, resolution = 0.02):\n",
    "    \"\"\"\n",
    "    In this function, we pass, X and y data along with model to eventually test whether our model\n",
    "    is able to draw a precise decision boundry to separate 2 classes or not. \n",
    "    \"\"\"\n",
    "    \n",
    "    markers = (\"o\", \"x\")\n",
    "    colors = (\"red\",\"blue\")\n",
    "    cmap = ListedColormap(colors[:len(np.unique(y))])\n",
    "    \n",
    "    x1_min, x1_max = X[:,0].min()-1, X[:, 0].max() +1\n",
    "    x2_min, x2_max = X[:,1].min()-1, X[:, 1].max() +1\n",
    "    \n",
    "    xx1, xx2 = np.meshgrid(np.arange(x1_min, x1_max, resolution), \n",
    "                          np.arange(x2_min, x2_max, resolution))\n",
    "    \n",
    "    \n",
    "    Z = classifier.predict(np.array([xx1.ravel(), xx2.ravel()]).T)\n",
    "    \n",
    "    Z = Z.reshape(xx1.shape)\n",
    "    \n",
    "    plt.figure()\n",
    "    plt.contourf(xx1, xx2, Z, alpha = 0.5, cmap = cmap)\n",
    "    \n",
    "    plt.xlim(xx1.min(), xx1.max())\n",
    "    plt.ylim(xx2.min(), xx2.max())\n",
    "    \n",
    "    for idx, cl in enumerate(np.unique(y)):\n",
    "        plt.scatter(x = X[y == cl, 0], y = X[y == cl, 1],alpha = 0.5,c= cmap(idx),marker = markers[idx])\n",
    "        \n",
    "    plt.xlabel(\"Input 1\")\n",
    "    plt.ylabel(\"Input 2\")\n",
    "    plt.title(\"Decision boundary separating 2 classes\")\n",
    "\n",
    "# Plotting the decision boundary using whole dataset\n",
    "# Extracting 2 features to draw 2D plot and data related to class 0 and 1.\n",
    "X = X[:100, [0,2]]                              \n",
    "y = y[:100]\n",
    "\n",
    "# Build and Train new model instance using only 2 input features. \n",
    "model = SLP(learning_rate=0.01, epochs=20, X=X)\n",
    "model.fit(X, y)\n",
    "classifier = model\n",
    "\n",
    "# Plot decision boundary\n",
    "decision_boundry(X,y,classifier = model,resolution = 0.02)"
   ]
  }
 ],
 "metadata": {
  "kernelspec": {
   "display_name": "Python 3",
   "language": "python",
   "name": "python3"
  },
  "language_info": {
   "codemirror_mode": {
    "name": "ipython",
    "version": 3
   },
   "file_extension": ".py",
   "mimetype": "text/x-python",
   "name": "python",
   "nbconvert_exporter": "python",
   "pygments_lexer": "ipython3",
   "version": "3.7.4"
  },
  "latex_envs": {
   "LaTeX_envs_menu_present": true,
   "autoclose": false,
   "autocomplete": true,
   "bibliofile": "biblio.bib",
   "cite_by": "apalike",
   "current_citInitial": 1,
   "eqLabelWithNumbers": true,
   "eqNumInitial": 1,
   "hotkeys": {
    "equation": "Ctrl-E",
    "itemize": "Ctrl-I"
   },
   "labels_anchors": false,
   "latex_user_defs": false,
   "report_style_numbering": false,
   "user_envs_cfg": false
  }
 },
 "nbformat": 4,
 "nbformat_minor": 4
}
