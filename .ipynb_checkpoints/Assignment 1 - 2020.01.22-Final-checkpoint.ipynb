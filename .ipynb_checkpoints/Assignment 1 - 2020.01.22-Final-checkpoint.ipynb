{
 "cells": [
  {
   "cell_type": "markdown",
   "metadata": {},
   "source": [
    "# Assignment 1 - Single-Layer Perceptron Networks\n",
    "Prepared and Submitted by: Rajpal Virk  \n",
    "Date: 22 January 2020"
   ]
  },
  {
   "cell_type": "markdown",
   "metadata": {},
   "source": [
    "## Question 1\n",
    "\n",
    "## Choice #1: Implementation of a Perceptron Network\n",
    "Write code using a procedural programming language for a generic single-layer perceptron network. The program should provide the flexibility to incorporate the following:\n",
    "- Any number of input and output nodes\n",
    "- Continuum of fully-connected networks and partially-connected networks\n",
    "- Provision for the user to provide:\n",
    "    - Network configuration information,\n",
    "    - Learning rate, and\n",
    "    - Location of training and testing data sets through a parameter file that can be passed to the executable\n",
    "- Program should provide constant feedback to the user in terms of network performance during training and execution\n",
    "\n",
    "The code will be tested against different data sets.\n",
    "- For testing on different datasets, we will run the same model on 3 different datasets to verify whether our model accurately produces binary classification."
   ]
  },
  {
   "cell_type": "markdown",
   "metadata": {},
   "source": [
    "## 1. Import Libraries"
   ]
  },
  {
   "cell_type": "code",
   "execution_count": 1,
   "metadata": {},
   "outputs": [],
   "source": [
    "import numpy as np\n",
    "import pandas as pd\n",
    "\n",
    "from numpy.random import seed\n",
    "\n",
    "from matplotlib import pyplot as plt\n",
    "from matplotlib import rcParams\n",
    "plt.rcParams[\"figure.figsize\"] = 15, 12\n",
    "\n",
    "from matplotlib.colors import ListedColormap\n",
    "\n",
    "from sklearn.model_selection import train_test_split\n",
    "from sklearn.metrics import confusion_matrix\n",
    "from sklearn.metrics import accuracy_score\n",
    "from sklearn.metrics import classification_report"
   ]
  },
  {
   "cell_type": "markdown",
   "metadata": {},
   "source": [
    "## 2. Making a class for single layer perceptron networks\n",
    "\n",
    "In this section, we'll make a class for single layer perceptron networks.\n",
    "\n",
    "Key controllable parameters are:\n",
    "1. Learning Rate (lr): This parameter is a float type data and value of this ranges from 0.0 to 1.0.\n",
    "2. No. of Iterations (epochs): This is integer type parameter.\n",
    "\n",
    "Key mutable attributes are:\n",
    "1. Input nodes (X): These are input nodes denoted by X and are in form of ndarray type.\n",
    "2. Output nodes (y): These are output nodes denoted by y and are in form of ndarray type.\n",
    "3. Weights (w) : 1-d array type and are the weight vectors. We'll optimize these weight value to reduce the cost function. \n",
    "4. Bias (b): a float type data point, whose value is fixed as 1. We'll keep this value fixed."
   ]
  },
  {
   "cell_type": "code",
   "execution_count": 2,
   "metadata": {},
   "outputs": [],
   "source": [
    "class SLP(object):                                      # SLP - Single layer perceptron\n",
    "    \n",
    "        \n",
    "    def __init__(self, lr, epochs):                     # Defining initialization function for class\n",
    "        \"\"\"\n",
    "        Here we'll set the learning rate (lr) and number of iterations (epochs).\n",
    "        \n",
    "        \"\"\"\n",
    "  \n",
    "        self.lr = lr\n",
    "        self.epochs = epochs\n",
    "                               \n",
    "    \n",
    "    \n",
    "    def net_input_data(self, X):\n",
    "        \"\"\"\n",
    "        In this function, we'll pass input values, weights and bias.\n",
    "        The output of this fuction is the net input data which we'll later pass through the activation function.\n",
    "        \n",
    "        \"\"\"\n",
    "        \n",
    "        return (np.dot(X, self.w) + self.b)\n",
    "    \n",
    "    \n",
    "    def predict(self, X):\n",
    "        \"\"\"\n",
    "        Here we'll pass net input data through the activation function.\n",
    "        The output will be the predictions in form of 2 classes of 0 and 1. \n",
    "        \n",
    "        \"\"\"\n",
    "        \n",
    "        return np.where(self.net_input_data(X) >= 0.5, 1, 0)\n",
    "    \n",
    "    \n",
    "    def fit(self, X, y):\n",
    "        \"\"\"\n",
    "        This is a fit function, which we'll use to train the model.\n",
    "        We'll also set values for weights = 0 and bias = 1.0\n",
    "        No. of weights depends on the number of columns. Hence we used shape[column] function.\n",
    "        we'll pass through the X and Y training dataset.\n",
    "        we'll also make a list of misclassifications (errors), which we'll later use to check the perceptron performance.\n",
    "        \n",
    "        \"\"\"\n",
    "        \n",
    "        self.w = np.zeros(X.shape[1])                   \n",
    "        self.b = float(1)\n",
    "        self.errors = []                                # Making an empty list of errors.\n",
    "        \n",
    "        for _ in range(self.epochs):                    # Iteration over the number of epochs\n",
    "            errors = 0                                  # Initiating errors values to check performance of model later.\n",
    "            \n",
    "            for Xi, desired in zip(X, y):               # Calculating the difference b/w desired and actual response, and updating the weight vectors\n",
    "                diff = (desired - self.predict(Xi))\n",
    "                delta = self.lr * (desired - self.predict(Xi))\n",
    "                self.w += delta * Xi\n",
    "            \n",
    "            \n",
    "                errors += int(diff != 0.0)              # Updating the values of errors to check the performance on each epoch to validate the efficiency of model.\n",
    "            self.errors.append(errors)\n",
    "        return self\n",
    "    "
   ]
  },
  {
   "cell_type": "markdown",
   "metadata": {},
   "source": [
    "The above code meets the following requirements:\n",
    "- Provision for the user to provide:\n",
    "    - Network configuration information (epochs or no. of iterations),\n",
    "    - Learning rate, and\n",
    "    - Input and output nodes\n"
   ]
  },
  {
   "cell_type": "markdown",
   "metadata": {},
   "source": [
    "### Writing other functions to use. "
   ]
  },
  {
   "cell_type": "code",
   "execution_count": 3,
   "metadata": {},
   "outputs": [],
   "source": [
    "def plot_data(data, a, b, x, y):\n",
    "    \"\"\"\n",
    "    This function is used to check whether data is linearly separable or not, before implementing the model.\n",
    "    \n",
    "    \"\"\"\n",
    "    \n",
    "    \n",
    "    for i in range(len(data)):\n",
    "        c = 'b'\n",
    "        marker = 'x'\n",
    "        label = a\n",
    "        if data[i][2] == 0:\n",
    "            c = 'r'\n",
    "            marker = 'o'\n",
    "            label = b\n",
    "        plt.scatter([data[i][0]], [data[i][1]], c=c, marker = marker, label = label)\n",
    "    \n",
    "    \n",
    "    \n",
    "    # Adding X and Y axis labels\n",
    "    plt.xlabel(x)\n",
    "    plt.ylabel(y)\n",
    "    plt.title(\"Scatter plot showing 2 classes\")\n"
   ]
  },
  {
   "cell_type": "code",
   "execution_count": 4,
   "metadata": {},
   "outputs": [],
   "source": [
    "def decision_boundry(X, y, classifier, resolution = 0.02):\n",
    "    \"\"\"\n",
    "    In this function, we pass, X and y data along with model to eventually test whether our model\n",
    "    is able to draw a precise decision boundry to separate 2 classes or not. \n",
    "    \"\"\"\n",
    "    \n",
    "    \n",
    "    \n",
    "    markers = (\"o\", \"x\")\n",
    "    colors = (\"red\",\"blue\")\n",
    "    cmap = ListedColormap(colors[:len(np.unique(y))])\n",
    "    \n",
    "    x1_min, x1_max = X[:,0].min()-1, X[:, 0].max() +1\n",
    "    x2_min, x2_max = X[:,1].min()-1, X[:, 1].max() +1\n",
    "    \n",
    "    xx1, xx2 = np.meshgrid(np.arange(x1_min, x1_max, resolution), \n",
    "                          np.arange(x2_min, x2_max, resolution))\n",
    "    \n",
    "    \n",
    "    Z = classifier.predict(np.array([xx1.ravel(), xx2.ravel()]).T)\n",
    "    \n",
    "    Z = Z.reshape(xx1.shape)\n",
    "    \n",
    "    plt.figure()\n",
    "    plt.contourf(xx1, xx2, Z, alpha = 0.5, cmap = cmap)\n",
    "    \n",
    "    plt.xlim(xx1.min(), xx1.max())\n",
    "    plt.ylim(xx2.min(), xx2.max())\n",
    "    \n",
    "    for idx, cl in enumerate(np.unique(y)):\n",
    "        plt.scatter(x = X[y == cl, 0], y = X[y == cl, 1],alpha = 0.5,c= cmap(idx),marker = markers[idx])\n",
    "        \n",
    "    plt.xlabel(\"Input 1\")\n",
    "    plt.ylabel(\"Input 2\")\n",
    "    plt.title(\"Decision boundary separating 2 classes\")"
   ]
  },
  {
   "cell_type": "markdown",
   "metadata": {},
   "source": [
    "## 3(a). Importing, Preprocessing and Checking Dataset (IRIS)\n",
    "\n",
    "In this section, we'll perform following actions:\n",
    "1. Importing dataset\n",
    "2. Cleaning dataset to exclude all unwanted observations and attributed. \n",
    "3. Checking finally whether the dataset is linearly separable or not?"
   ]
  },
  {
   "cell_type": "code",
   "execution_count": 5,
   "metadata": {},
   "outputs": [
    {
     "data": {
      "text/html": [
       "<div>\n",
       "<style scoped>\n",
       "    .dataframe tbody tr th:only-of-type {\n",
       "        vertical-align: middle;\n",
       "    }\n",
       "\n",
       "    .dataframe tbody tr th {\n",
       "        vertical-align: top;\n",
       "    }\n",
       "\n",
       "    .dataframe thead th {\n",
       "        text-align: right;\n",
       "    }\n",
       "</style>\n",
       "<table border=\"1\" class=\"dataframe\">\n",
       "  <thead>\n",
       "    <tr style=\"text-align: right;\">\n",
       "      <th></th>\n",
       "      <th>0</th>\n",
       "      <th>1</th>\n",
       "      <th>2</th>\n",
       "      <th>3</th>\n",
       "      <th>4</th>\n",
       "    </tr>\n",
       "  </thead>\n",
       "  <tbody>\n",
       "    <tr>\n",
       "      <td>0</td>\n",
       "      <td>5.1</td>\n",
       "      <td>3.5</td>\n",
       "      <td>1.4</td>\n",
       "      <td>0.2</td>\n",
       "      <td>Iris-setosa</td>\n",
       "    </tr>\n",
       "    <tr>\n",
       "      <td>1</td>\n",
       "      <td>4.9</td>\n",
       "      <td>3.0</td>\n",
       "      <td>1.4</td>\n",
       "      <td>0.2</td>\n",
       "      <td>Iris-setosa</td>\n",
       "    </tr>\n",
       "    <tr>\n",
       "      <td>2</td>\n",
       "      <td>4.7</td>\n",
       "      <td>3.2</td>\n",
       "      <td>1.3</td>\n",
       "      <td>0.2</td>\n",
       "      <td>Iris-setosa</td>\n",
       "    </tr>\n",
       "    <tr>\n",
       "      <td>3</td>\n",
       "      <td>4.6</td>\n",
       "      <td>3.1</td>\n",
       "      <td>1.5</td>\n",
       "      <td>0.2</td>\n",
       "      <td>Iris-setosa</td>\n",
       "    </tr>\n",
       "    <tr>\n",
       "      <td>4</td>\n",
       "      <td>5.0</td>\n",
       "      <td>3.6</td>\n",
       "      <td>1.4</td>\n",
       "      <td>0.2</td>\n",
       "      <td>Iris-setosa</td>\n",
       "    </tr>\n",
       "  </tbody>\n",
       "</table>\n",
       "</div>"
      ],
      "text/plain": [
       "     0    1    2    3            4\n",
       "0  5.1  3.5  1.4  0.2  Iris-setosa\n",
       "1  4.9  3.0  1.4  0.2  Iris-setosa\n",
       "2  4.7  3.2  1.3  0.2  Iris-setosa\n",
       "3  4.6  3.1  1.5  0.2  Iris-setosa\n",
       "4  5.0  3.6  1.4  0.2  Iris-setosa"
      ]
     },
     "execution_count": 5,
     "metadata": {},
     "output_type": "execute_result"
    }
   ],
   "source": [
    "# Importing Dataset - IRIS\n",
    "\n",
    "csv_name =\"iris.data\"\n",
    "header = None\n",
    "df = pd.read_csv(csv_name, header = header)\n",
    "df.head()"
   ]
  },
  {
   "cell_type": "code",
   "execution_count": 6,
   "metadata": {},
   "outputs": [
    {
     "name": "stdout",
     "output_type": "stream",
     "text": [
      "[[5.1 1.4]\n",
      " [4.9 1.4]\n",
      " [4.7 1.3]\n",
      " [4.6 1.5]\n",
      " [5.  1.4]]\n",
      "['Iris-setosa' 'Iris-setosa' 'Iris-setosa' 'Iris-setosa' 'Iris-setosa']\n",
      "(100, 2)\n",
      "(100,)\n"
     ]
    }
   ],
   "source": [
    "# Extracting Input values (X) and Desired values (d) from the dataset\n",
    "\n",
    "\"\"\"\n",
    "IRIS dataset has 150 observations. First 100 observations belong to a binary class classification.\n",
    "Hence, we'll include only first 100 observations in our dataset.\n",
    "\n",
    "In IRIS, column 0 refers to Sepal length and column 2 refers to petal_length.\n",
    "Also, column 4 refers to the desired outputs.\n",
    "\"\"\"\n",
    "\n",
    "\n",
    "X = df.iloc[0:100, [0, 2]].values\n",
    "d = df.iloc[0:100, 4].values\n",
    "\n",
    "print(X[:5])\n",
    "print(d[:5])\n",
    "print(X.shape)\n",
    "print(d.shape)"
   ]
  },
  {
   "cell_type": "code",
   "execution_count": 7,
   "metadata": {},
   "outputs": [
    {
     "data": {
      "text/plain": [
       "array([0, 0, 0, 0, 0, 0, 0, 0, 0, 0, 0, 0, 0, 0, 0, 0, 0, 0, 0, 0, 0, 0,\n",
       "       0, 0, 0, 0, 0, 0, 0, 0, 0, 0, 0, 0, 0, 0, 0, 0, 0, 0, 0, 0, 0, 0,\n",
       "       0, 0, 0, 0, 0, 0, 1, 1, 1, 1, 1, 1, 1, 1, 1, 1, 1, 1, 1, 1, 1, 1,\n",
       "       1, 1, 1, 1, 1, 1, 1, 1, 1, 1, 1, 1, 1, 1, 1, 1, 1, 1, 1, 1, 1, 1,\n",
       "       1, 1, 1, 1, 1, 1, 1, 1, 1, 1, 1, 1])"
      ]
     },
     "execution_count": 7,
     "metadata": {},
     "output_type": "execute_result"
    }
   ],
   "source": [
    "# Converting desired output (d) in binary classification of -1 and 1.\n",
    "\n",
    "negative_class=0\n",
    "positive_class=1\n",
    "condition=d==\"Iris-setosa\"\n",
    "\n",
    "d = np.where(condition, negative_class, positive_class)\n",
    "d"
   ]
  },
  {
   "cell_type": "code",
   "execution_count": 8,
   "metadata": {},
   "outputs": [
    {
     "data": {
      "text/plain": [
       "Text(0.5, 1.0, 'Scatter plot showing 2 classes')"
      ]
     },
     "execution_count": 8,
     "metadata": {},
     "output_type": "execute_result"
    },
    {
     "data": {
      "image/png": "[encoded data removed]",
      "text/plain": [
       "<Figure size 432x288 with 1 Axes>"
      ]
     },
     "metadata": {
      "needs_background": "light"
     },
     "output_type": "display_data"
    }
   ],
   "source": [
    "# Ploting classes to see whether the data is linearly separable or not\n",
    "\n",
    "sepal_length = X[0:50, 0]\n",
    "petal_length = X[0:50, 1]\n",
    "color = 'r'\n",
    "marker = \"o\"\n",
    "label = \"Setosa\"\n",
    "\n",
    "plt.scatter(x = sepal_length, y = petal_length, color = color, marker = marker, label = label)\n",
    "\n",
    "sepal_length = X[50:100, 0]\n",
    "petal_length = X[50:100, 1]\n",
    "color = 'blue'\n",
    "marker = \"x\"\n",
    "label = \"Versicolor\"\n",
    "\n",
    "plt.scatter(x = sepal_length, y = petal_length, color = color, marker = marker, label = label) \n",
    "\n",
    "# Adding X and Y axis labels\n",
    "plt.xlabel(\"Sepal Length (cm)\")\n",
    "plt.ylabel(\"Petal Length (cm)\")\n",
    "\n",
    "# Adding legends\n",
    "location = \"upper left\"\n",
    "plt.legend(loc = location)\n",
    "plt.title(\"Scatter plot showing 2 classes\")"
   ]
  },
  {
   "cell_type": "markdown",
   "metadata": {},
   "source": [
    "From above plot, it is clearly visible that binary classes are linearly separable."
   ]
  },
  {
   "cell_type": "markdown",
   "metadata": {},
   "source": [
    "## 4(a). Training the Model and Checking the performance of Model "
   ]
  },
  {
   "cell_type": "code",
   "execution_count": 9,
   "metadata": {},
   "outputs": [],
   "source": [
    "# Splitting dataset in train and test dataset\n",
    "\n",
    "X_train,X_test,y_train,y_test = train_test_split(X,d, test_size = 0.2, random_state = 2019)"
   ]
  },
  {
   "cell_type": "code",
   "execution_count": 10,
   "metadata": {},
   "outputs": [
    {
     "data": {
      "text/plain": [
       "<__main__.SLP at 0x1a17eddc90>"
      ]
     },
     "execution_count": 10,
     "metadata": {},
     "output_type": "execute_result"
    }
   ],
   "source": [
    "# Running the single layer perceptron class and prepare the model\n",
    "\n",
    "lr = 0.01\n",
    "epochs = 10\n",
    "\n",
    "model = SLP(lr = lr, epochs = epochs)\n",
    "model"
   ]
  },
  {
   "cell_type": "code",
   "execution_count": 11,
   "metadata": {},
   "outputs": [
    {
     "data": {
      "text/plain": [
       "<__main__.SLP at 0x1a17eddc90>"
      ]
     },
     "execution_count": 11,
     "metadata": {},
     "output_type": "execute_result"
    }
   ],
   "source": [
    "# Train the model using train dataset\n",
    "\n",
    "model.fit(X_train, y_train)"
   ]
  },
  {
   "cell_type": "code",
   "execution_count": 12,
   "metadata": {},
   "outputs": [
    {
     "data": {
      "text/plain": [
       "[22, 0, 0, 0, 0, 0, 0, 0, 0, 0]"
      ]
     },
     "execution_count": 12,
     "metadata": {},
     "output_type": "execute_result"
    }
   ],
   "source": [
    "# Printing the model errors\n",
    "\n",
    "model.errors"
   ]
  },
  {
   "cell_type": "code",
   "execution_count": 13,
   "metadata": {},
   "outputs": [
    {
     "data": {
      "text/plain": [
       "[<matplotlib.lines.Line2D at 0x1a17fbec90>]"
      ]
     },
     "execution_count": 13,
     "metadata": {},
     "output_type": "execute_result"
    },
    {
     "data": {
      "image/png": "[encoded data removed]",
      "text/plain": [
       "<Figure size 432x288 with 1 Axes>"
      ]
     },
     "metadata": {
      "needs_background": "light"
     },
     "output_type": "display_data"
    }
   ],
   "source": [
    "# Check the performance of model by ploting the errors to show whether the errors are dropping\n",
    "\n",
    "epochs = range(1,(1+len(model.errors)))\n",
    "misclassfication = model.errors\n",
    "marker = \"o\"\n",
    "plt.xlabel(\"Number of Iterations\")\n",
    "plt.ylabel(\"Misclassifications\")\n",
    "plt.title('Performance graph showing misclassification reduction over iterations')\n",
    "\n",
    "plt.plot(epochs,misclassfication,marker = marker)\n"
   ]
  },
  {
   "cell_type": "markdown",
   "metadata": {},
   "source": [
    "From above plot, it can be confirmed that errors are reducing after first iteration and are constant at 0 after second iteration."
   ]
  },
  {
   "cell_type": "markdown",
   "metadata": {},
   "source": [
    "## 5. Predicting the class of test dataset and checking the model performance using performance matrices. "
   ]
  },
  {
   "cell_type": "code",
   "execution_count": 14,
   "metadata": {},
   "outputs": [
    {
     "data": {
      "text/plain": [
       "array([0, 0, 0, 1, 0, 1, 1, 1, 0, 1, 0, 0, 0, 1, 1, 1, 0, 1, 1, 0])"
      ]
     },
     "execution_count": 14,
     "metadata": {},
     "output_type": "execute_result"
    }
   ],
   "source": [
    "# Predicting the values of test dataset using model\n",
    "\n",
    "pred_y = model.predict(X_test)\n",
    "pred_y"
   ]
  },
  {
   "cell_type": "markdown",
   "metadata": {},
   "source": [
    "After predicting the output of the test dataset. we can check the performance of model using performance metrics such as accuracy, confusion matrix table etc."
   ]
  },
  {
   "cell_type": "code",
   "execution_count": 15,
   "metadata": {},
   "outputs": [
    {
     "name": "stdout",
     "output_type": "stream",
     "text": [
      "############# Accuracy #############\n",
      "Accuracy output of model is:  1.0\n",
      "\n",
      "\n",
      "############# Confusion Matrix #############\n",
      "[[10  0]\n",
      " [ 0 10]]\n",
      "\n",
      "\n",
      "############# Classification Report #############\n",
      "              precision    recall  f1-score   support\n",
      "\n",
      "           0       1.00      1.00      1.00        10\n",
      "           1       1.00      1.00      1.00        10\n",
      "\n",
      "    accuracy                           1.00        20\n",
      "   macro avg       1.00      1.00      1.00        20\n",
      "weighted avg       1.00      1.00      1.00        20\n",
      "\n"
     ]
    }
   ],
   "source": [
    "# Printing Accuracy, Confusion Matrix and Classification Report\n",
    "\n",
    "print ('############# Accuracy #############')\n",
    "print(\"Accuracy output of model is: \", accuracy_score(y_test, pred_y))\n",
    "print (\"\\n\")\n",
    "results = confusion_matrix(y_test, pred_y)\n",
    "print ('############# Confusion Matrix #############')\n",
    "print (\"{}\".format(results))\n",
    "print(\"\\n\")\n",
    "\n",
    "print ('############# Classification Report #############')\n",
    "print (classification_report(y_test, pred_y))"
   ]
  },
  {
   "cell_type": "markdown",
   "metadata": {},
   "source": [
    "From above matrices, we can confirm that the model has accurately predicted the classes of test dataset."
   ]
  },
  {
   "cell_type": "code",
   "execution_count": 16,
   "metadata": {},
   "outputs": [
    {
     "name": "stderr",
     "output_type": "stream",
     "text": [
      "'c' argument looks like a single numeric RGB or RGBA sequence, which should be avoided as value-mapping will have precedence in case its length matches with 'x' & 'y'.  Please use a 2-D array with a single row if you really want to specify the same RGB or RGBA value for all points.\n",
      "'c' argument looks like a single numeric RGB or RGBA sequence, which should be avoided as value-mapping will have precedence in case its length matches with 'x' & 'y'.  Please use a 2-D array with a single row if you really want to specify the same RGB or RGBA value for all points.\n"
     ]
    },
    {
     "data": {
      "image/png": "[encoded data removed]",
      "text/plain": [
       "<Figure size 432x288 with 1 Axes>"
      ]
     },
     "metadata": {
      "needs_background": "light"
     },
     "output_type": "display_data"
    }
   ],
   "source": [
    "# Plotting the decision boundary using whole dataset\n",
    "\n",
    "x = X\n",
    "y = d\n",
    "classifier = model\n",
    "decision_boundry(X,y,classifier = model,resolution = 0.02)"
   ]
  },
  {
   "cell_type": "markdown",
   "metadata": {},
   "source": [
    "## 3(b). Importing, Preprocessing and Checking Dataset (Uniformly distributed dataset)"
   ]
  },
  {
   "cell_type": "code",
   "execution_count": 17,
   "metadata": {},
   "outputs": [
    {
     "data": {
      "text/plain": [
       "array([[0.9936, 0.979 , 1.    ],\n",
       "       [0.9126, 0.7843, 1.    ],\n",
       "       [1.4803, 0.5669, 1.    ],\n",
       "       ...,\n",
       "       [1.9802, 2.2789, 0.    ],\n",
       "       [1.5606, 1.7928, 0.    ],\n",
       "       [1.9909, 1.7229, 0.    ]])"
      ]
     },
     "execution_count": 17,
     "metadata": {},
     "output_type": "execute_result"
    }
   ],
   "source": [
    "df_uniform1 = pd.read_excel('UniformDistributed.xlsx', header = None)\n",
    "df_uniform1 = df_uniform1.to_numpy()\n",
    "df_uniform1"
   ]
  },
  {
   "cell_type": "code",
   "execution_count": 18,
   "metadata": {},
   "outputs": [
    {
     "data": {
      "image/png": "[encoded data removed]",
      "text/plain": [
       "<Figure size 432x288 with 1 Axes>"
      ]
     },
     "metadata": {
      "needs_background": "light"
     },
     "output_type": "display_data"
    }
   ],
   "source": [
    "# Ploting classes to see whether the data is linearly separable or not\n",
    "\n",
    "plot_data(df_uniform1, \"class_1\", \"class_2\", \"Input 1\", \"Input 2\")"
   ]
  },
  {
   "cell_type": "markdown",
   "metadata": {},
   "source": [
    "From above plot, it is clearly visible that binary classes are linearly separable."
   ]
  },
  {
   "cell_type": "markdown",
   "metadata": {},
   "source": [
    "## 4(b). Training the Model and Checking the performance of Model"
   ]
  },
  {
   "cell_type": "code",
   "execution_count": 19,
   "metadata": {},
   "outputs": [],
   "source": [
    "# Splitting dataset in train and test dataset\n",
    "X2 = df_uniform1[:, 0:2]\n",
    "y2 = df_uniform1[:, -1]\n",
    "X2_train,X2_test,y2_train,y2_test = train_test_split(X2, y2, test_size = 0.2, random_state = 2019)"
   ]
  },
  {
   "cell_type": "code",
   "execution_count": 20,
   "metadata": {},
   "outputs": [
    {
     "data": {
      "text/plain": [
       "<__main__.SLP at 0x1a17eddc90>"
      ]
     },
     "execution_count": 20,
     "metadata": {},
     "output_type": "execute_result"
    }
   ],
   "source": [
    "# Train the model using train dataset\n",
    "\n",
    "model.fit(X2_train, y2_train)"
   ]
  },
  {
   "cell_type": "code",
   "execution_count": 21,
   "metadata": {},
   "outputs": [
    {
     "data": {
      "text/plain": [
       "[9, 0, 0, 0, 0, 0, 0, 0, 0, 0]"
      ]
     },
     "execution_count": 21,
     "metadata": {},
     "output_type": "execute_result"
    }
   ],
   "source": [
    "# Printing the model errors\n",
    "\n",
    "model.errors"
   ]
  },
  {
   "cell_type": "code",
   "execution_count": 22,
   "metadata": {},
   "outputs": [
    {
     "data": {
      "text/plain": [
       "array([ 0.0960738, -0.0387936, -0.0553914, -0.8252274, -0.005598 ,\n",
       "       -0.8065446, -0.7076528, -0.6723722, -0.1231726, -0.8058496,\n",
       "        0.0448904, -0.1058798, -0.2400522, -0.3652718, -0.603896 ,\n",
       "       -0.435138 , -0.0726842, -0.8093246, -0.8252274, -0.1065748])"
      ]
     },
     "execution_count": 22,
     "metadata": {},
     "output_type": "execute_result"
    }
   ],
   "source": [
    "# Printing the net input data before passing it through the activation function. \n",
    "\n",
    "model.net_input_data(X_test)"
   ]
  },
  {
   "cell_type": "code",
   "execution_count": 23,
   "metadata": {},
   "outputs": [
    {
     "data": {
      "text/plain": [
       "array([0, 0, 0, 1, 0, 1, 1, 1, 0, 1, 0, 0, 0, 1, 1, 1, 0, 1, 1, 0])"
      ]
     },
     "execution_count": 23,
     "metadata": {},
     "output_type": "execute_result"
    }
   ],
   "source": [
    "# Printing the test data to verify that our activation function is set to right limits to distinguish data to right class.\n",
    "\n",
    "y_test"
   ]
  },
  {
   "cell_type": "code",
   "execution_count": 24,
   "metadata": {},
   "outputs": [
    {
     "data": {
      "text/plain": [
       "[<matplotlib.lines.Line2D at 0x1a18ab0610>]"
      ]
     },
     "execution_count": 24,
     "metadata": {},
     "output_type": "execute_result"
    },
    {
     "data": {
      "image/png": "[encoded data removed]",
      "text/plain": [
       "<Figure size 432x288 with 1 Axes>"
      ]
     },
     "metadata": {
      "needs_background": "light"
     },
     "output_type": "display_data"
    }
   ],
   "source": [
    "# Check the performance of model by ploting the errors to show whether the errors are dropping\n",
    "\n",
    "epochs = range(1,(1+len(model.errors)))\n",
    "misclassfication = model.errors\n",
    "marker = \"o\"\n",
    "plt.xlabel(\"Number of Iterations\")\n",
    "plt.ylabel(\"Misclassifications\")\n",
    "plt.title('Performance graph showing misclassification reduction over iterations')\n",
    "\n",
    "plt.plot(epochs, misclassfication, marker = marker)\n"
   ]
  },
  {
   "cell_type": "markdown",
   "metadata": {},
   "source": [
    "From above plot, it can be confirmed that errors are reducing after first iteration and are constant at 0 after second iteration."
   ]
  },
  {
   "cell_type": "markdown",
   "metadata": {},
   "source": [
    "## 5(b). Predicting the class of test dataset and checking the model performance using performance matrices."
   ]
  },
  {
   "cell_type": "code",
   "execution_count": 25,
   "metadata": {},
   "outputs": [
    {
     "data": {
      "text/plain": [
       "array([1, 0, 1, 0, 1, 0, 1, 1, 1, 1, 1, 1, 0, 1, 0, 0, 1, 1, 0, 0, 1, 0,\n",
       "       1, 1, 1, 1, 0, 0, 0, 0, 1, 0, 1, 1, 1, 1, 1, 1, 1, 1, 0, 1, 0, 0,\n",
       "       0, 1, 0, 0, 1, 1, 1, 1, 1, 0, 1, 1, 1, 1, 0, 0, 0, 0, 1, 1, 1, 0,\n",
       "       0, 1, 1, 0, 1, 1, 0, 0, 1, 1, 1, 0, 0, 0, 1, 0, 1, 1, 0, 1, 0, 0,\n",
       "       0, 0, 1, 1, 1, 1, 1, 0, 1, 1, 0, 0])"
      ]
     },
     "execution_count": 25,
     "metadata": {},
     "output_type": "execute_result"
    }
   ],
   "source": [
    "# Predicting the values of test dataset using model\n",
    "\n",
    "pred_y2 = model.predict(X2_test)\n",
    "pred_y2"
   ]
  },
  {
   "cell_type": "code",
   "execution_count": 26,
   "metadata": {},
   "outputs": [
    {
     "name": "stdout",
     "output_type": "stream",
     "text": [
      "############# Accuracy #############\n",
      "Accuracy output of model is:  1.0\n",
      "\n",
      "\n",
      "############# Confusion Matrix #############\n",
      "[[42  0]\n",
      " [ 0 58]]\n",
      "\n",
      "\n",
      "############# Classification Report #############\n",
      "              precision    recall  f1-score   support\n",
      "\n",
      "         0.0       1.00      1.00      1.00        42\n",
      "         1.0       1.00      1.00      1.00        58\n",
      "\n",
      "    accuracy                           1.00       100\n",
      "   macro avg       1.00      1.00      1.00       100\n",
      "weighted avg       1.00      1.00      1.00       100\n",
      "\n"
     ]
    }
   ],
   "source": [
    "# Printing Accuracy, Confusion Matrix and Classification Report\n",
    "\n",
    "print ('############# Accuracy #############')\n",
    "print(\"Accuracy output of model is: \", accuracy_score(y2_test, pred_y2))\n",
    "print (\"\\n\")\n",
    "results = confusion_matrix(y2_test, pred_y2)\n",
    "print ('############# Confusion Matrix #############')\n",
    "print (\"{}\".format(results))\n",
    "print(\"\\n\")\n",
    "\n",
    "print ('############# Classification Report #############')\n",
    "print (classification_report(y2_test, pred_y2))"
   ]
  },
  {
   "cell_type": "markdown",
   "metadata": {},
   "source": [
    "From above matrices, we can confirm that the model has accurately predicted the classes of test dataset."
   ]
  },
  {
   "cell_type": "code",
   "execution_count": 27,
   "metadata": {},
   "outputs": [
    {
     "name": "stderr",
     "output_type": "stream",
     "text": [
      "'c' argument looks like a single numeric RGB or RGBA sequence, which should be avoided as value-mapping will have precedence in case its length matches with 'x' & 'y'.  Please use a 2-D array with a single row if you really want to specify the same RGB or RGBA value for all points.\n",
      "'c' argument looks like a single numeric RGB or RGBA sequence, which should be avoided as value-mapping will have precedence in case its length matches with 'x' & 'y'.  Please use a 2-D array with a single row if you really want to specify the same RGB or RGBA value for all points.\n"
     ]
    },
    {
     "data": {
      "image/png": "[encoded data removed]",
      "text/plain": [
       "<Figure size 432x288 with 1 Axes>"
      ]
     },
     "metadata": {
      "needs_background": "light"
     },
     "output_type": "display_data"
    }
   ],
   "source": [
    "# Plotting the decision boundary using whole dataset\n",
    "\n",
    "x = X2\n",
    "y = y2\n",
    "classifier = model\n",
    "decision_boundry(x,y,classifier = model,resolution = 0.01)"
   ]
  },
  {
   "cell_type": "markdown",
   "metadata": {},
   "source": [
    "## 3(c). Importing, Preprocessing and Checking Dataset (Uniformly distributed dataset - randomly generated)¶"
   ]
  },
  {
   "cell_type": "code",
   "execution_count": 28,
   "metadata": {},
   "outputs": [
    {
     "name": "stdout",
     "output_type": "stream",
     "text": [
      "(500, 3)\n",
      "\n",
      "\n",
      "######## Class 1 ########\n",
      "[[1.40348221 0.89851486 1.        ]\n",
      " [0.89308051 1.27416508 1.        ]\n",
      " [1.12396996 0.51547159 1.        ]\n",
      " ...\n",
      " [0.94418454 1.39964564 1.        ]\n",
      " [0.66039499 1.30917441 1.        ]\n",
      " [0.90528469 1.47673541 1.        ]]\n",
      "(500, 3)\n",
      "\n",
      "\n",
      "######## Class 2 ########\n",
      "[[1.67468638 1.89070829 0.        ]\n",
      " [1.90420884 1.88483952 0.        ]\n",
      " [1.99756722 1.87624484 0.        ]\n",
      " ...\n",
      " [2.14014345 1.96933427 0.        ]\n",
      " [2.48194142 1.65647446 0.        ]\n",
      " [1.71162472 2.13082779 0.        ]]\n",
      "######## Dataset ########\n",
      "[[1.40348221 0.89851486 1.        ]\n",
      " [0.89308051 1.27416508 1.        ]\n",
      " [1.12396996 0.51547159 1.        ]\n",
      " ...\n",
      " [2.14014345 1.96933427 0.        ]\n",
      " [2.48194142 1.65647446 0.        ]\n",
      " [1.71162472 2.13082779 0.        ]]\n",
      "(1000, 3)\n"
     ]
    }
   ],
   "source": [
    "# Generating dataset - class 1\n",
    "\n",
    "np.random.seed(2019)\n",
    "Col_0_Class_1 = np.random.uniform(0.5, 1.5, 500)\n",
    "Col_1_Class_1 = np.random.uniform(0.5, 1.5, 500)\n",
    "Col_2_Class_1 = [1] * 500\n",
    "class_1 = np.stack((Col_0_Class_1, Col_1_Class_1,Col_2_Class_1), axis = 1)\n",
    "print(class_1.shape)\n",
    "print(\"\\n\")\n",
    "\n",
    "print(\"######## Class 1 ########\")\n",
    "print(class_1)\n",
    "\n",
    "# Generating dataset - class 2\n",
    "\n",
    "Col_0_Class_2 = np.random.uniform(1.5, 2.5, 500)\n",
    "Col_1_Class_2 = np.random.uniform(1.5, 2.5, 500)\n",
    "Col_2_Class_2 = [0] * 500\n",
    "class_2 = np.stack((Col_0_Class_2, Col_1_Class_2, Col_2_Class_2), axis = 1)\n",
    "print(class_2.shape)\n",
    "print(\"\\n\")\n",
    "\n",
    "print(\"######## Class 2 ########\")\n",
    "print(class_2)\n",
    "\n",
    "# Merging 2 classes to complete dataset\n",
    "\n",
    "df_uniform = np.concatenate((class_1, class_2))\n",
    "print(\"######## Dataset ########\")\n",
    "print (df_uniform)\n",
    "print(df_uniform.shape)\n"
   ]
  },
  {
   "cell_type": "code",
   "execution_count": 29,
   "metadata": {},
   "outputs": [
    {
     "data": {
      "image/png": "[encoded data removed]",
      "text/plain": [
       "<Figure size 432x288 with 1 Axes>"
      ]
     },
     "metadata": {
      "needs_background": "light"
     },
     "output_type": "display_data"
    }
   ],
   "source": [
    "# Ploting classes to see whether the data is linearly separable or not, using function defined above.\n",
    "\n",
    "plot_data(df_uniform, \"class_1\", \"class_2\", \"Input 1\", \"Input 2\")"
   ]
  },
  {
   "cell_type": "markdown",
   "metadata": {},
   "source": [
    "From above plot, it is clearly visible that binary classes are linearly separable."
   ]
  },
  {
   "cell_type": "markdown",
   "metadata": {},
   "source": [
    "## 4(c). Training the Model and Checking the performance of Model"
   ]
  },
  {
   "cell_type": "code",
   "execution_count": 30,
   "metadata": {},
   "outputs": [],
   "source": [
    "# Splitting dataset in train and test dataset\n",
    "X3 = df_uniform[:, 0:2]\n",
    "y3 = df_uniform[:, -1]\n",
    "X3_train,X3_test,y3_train,y3_test = train_test_split(X3, y3, test_size = 0.2, random_state = 2019)"
   ]
  },
  {
   "cell_type": "code",
   "execution_count": 31,
   "metadata": {},
   "outputs": [
    {
     "data": {
      "text/plain": [
       "<__main__.SLP at 0x1a17eddc90>"
      ]
     },
     "execution_count": 31,
     "metadata": {},
     "output_type": "execute_result"
    }
   ],
   "source": [
    "# Train the model using train dataset\n",
    "\n",
    "model.fit(X3_train, y3_train)"
   ]
  },
  {
   "cell_type": "code",
   "execution_count": 32,
   "metadata": {},
   "outputs": [
    {
     "data": {
      "text/plain": [
       "[9, 0, 0, 0, 0, 0, 0, 0, 0, 0]"
      ]
     },
     "execution_count": 32,
     "metadata": {},
     "output_type": "execute_result"
    }
   ],
   "source": [
    "# Printing the model errors\n",
    "\n",
    "model.errors"
   ]
  },
  {
   "cell_type": "code",
   "execution_count": 33,
   "metadata": {},
   "outputs": [
    {
     "data": {
      "text/plain": [
       "[<matplotlib.lines.Line2D at 0x1a1887c610>]"
      ]
     },
     "execution_count": 33,
     "metadata": {},
     "output_type": "execute_result"
    },
    {
     "data": {
      "image/png": "[encoded data removed]",
      "text/plain": [
       "<Figure size 432x288 with 1 Axes>"
      ]
     },
     "metadata": {
      "needs_background": "light"
     },
     "output_type": "display_data"
    }
   ],
   "source": [
    " # Check the performance of model by ploting the errors to show whether the errors are dropping\n",
    "\n",
    "epochs = range(1,(1+len(model.errors)))\n",
    "misclassfication = model.errors\n",
    "marker = \"o\"\n",
    "plt.xlabel(\"Number of Iterations\")\n",
    "plt.ylabel(\"Misclassifications\")\n",
    "plt.title('Performance graph showing misclassification reduction over iterations')\n",
    "plt.plot(epochs,misclassfication,marker = marker)"
   ]
  },
  {
   "cell_type": "markdown",
   "metadata": {},
   "source": [
    "From above plot, it can be confirmed that errors are reducing after 1st iteration and are constant at 0 after 2nd iteration."
   ]
  },
  {
   "cell_type": "markdown",
   "metadata": {},
   "source": [
    "## 5(c). Predicting the class of test dataset and checking the model performance using performance matrices."
   ]
  },
  {
   "cell_type": "code",
   "execution_count": 34,
   "metadata": {},
   "outputs": [
    {
     "data": {
      "text/plain": [
       "array([1, 0, 0, 0, 1, 0, 1, 1, 0, 0, 1, 0, 1, 1, 1, 1, 1, 1, 0, 1, 1, 0,\n",
       "       0, 1, 1, 1, 1, 1, 0, 1, 0, 0, 1, 0, 0, 1, 1, 1, 0, 1, 1, 1, 1, 0,\n",
       "       0, 0, 0, 1, 1, 0, 0, 0, 1, 1, 0, 1, 1, 1, 0, 0, 1, 1, 1, 0, 1, 1,\n",
       "       0, 0, 0, 1, 0, 0, 0, 0, 1, 0, 1, 1, 1, 0, 0, 0, 1, 1, 0, 0, 0, 1,\n",
       "       1, 0, 1, 0, 0, 1, 0, 1, 0, 1, 1, 0, 1, 1, 1, 0, 0, 0, 0, 1, 0, 1,\n",
       "       1, 1, 1, 0, 1, 1, 1, 1, 1, 1, 0, 0, 1, 1, 1, 0, 1, 0, 0, 1, 1, 0,\n",
       "       0, 0, 1, 0, 0, 1, 0, 1, 0, 0, 1, 0, 0, 1, 1, 1, 0, 1, 1, 1, 0, 1,\n",
       "       0, 1, 0, 1, 0, 0, 0, 1, 0, 1, 1, 1, 1, 1, 1, 1, 1, 0, 1, 0, 0, 0,\n",
       "       0, 1, 0, 0, 0, 0, 0, 0, 1, 1, 0, 1, 0, 1, 1, 0, 0, 0, 0, 0, 1, 1,\n",
       "       1, 0])"
      ]
     },
     "execution_count": 34,
     "metadata": {},
     "output_type": "execute_result"
    }
   ],
   "source": [
    "# Predicting the values of test dataset using model\n",
    "\n",
    "pred_y3 = model.predict(X3_test)\n",
    "pred_y3"
   ]
  },
  {
   "cell_type": "code",
   "execution_count": 35,
   "metadata": {},
   "outputs": [
    {
     "name": "stdout",
     "output_type": "stream",
     "text": [
      "############# Accuracy #############\n",
      "Accuracy output of model is:  1.0\n",
      "\n",
      "\n",
      "############# Confusion Matrix #############\n",
      "[[ 95   0]\n",
      " [  0 105]]\n",
      "\n",
      "\n",
      "############# Classification Report #############\n",
      "              precision    recall  f1-score   support\n",
      "\n",
      "         0.0       1.00      1.00      1.00        95\n",
      "         1.0       1.00      1.00      1.00       105\n",
      "\n",
      "    accuracy                           1.00       200\n",
      "   macro avg       1.00      1.00      1.00       200\n",
      "weighted avg       1.00      1.00      1.00       200\n",
      "\n"
     ]
    }
   ],
   "source": [
    "# Printing Accuracy, Confusion Matrix and Classification Report\n",
    "\n",
    "print ('############# Accuracy #############')\n",
    "print(\"Accuracy output of model is: \", accuracy_score(y3_test, pred_y3))\n",
    "print (\"\\n\")\n",
    "results = confusion_matrix(y3_test, pred_y3)\n",
    "print ('############# Confusion Matrix #############')\n",
    "print (\"{}\".format(results))\n",
    "print(\"\\n\")\n",
    "\n",
    "print ('############# Classification Report #############')\n",
    "print (classification_report(y3_test, pred_y3))"
   ]
  },
  {
   "cell_type": "markdown",
   "metadata": {},
   "source": [
    "From above matrices, we can confirm that the model has accurately predicted the classes of test dataset."
   ]
  },
  {
   "cell_type": "code",
   "execution_count": 36,
   "metadata": {},
   "outputs": [
    {
     "name": "stderr",
     "output_type": "stream",
     "text": [
      "'c' argument looks like a single numeric RGB or RGBA sequence, which should be avoided as value-mapping will have precedence in case its length matches with 'x' & 'y'.  Please use a 2-D array with a single row if you really want to specify the same RGB or RGBA value for all points.\n",
      "'c' argument looks like a single numeric RGB or RGBA sequence, which should be avoided as value-mapping will have precedence in case its length matches with 'x' & 'y'.  Please use a 2-D array with a single row if you really want to specify the same RGB or RGBA value for all points.\n"
     ]
    },
    {
     "data": {
      "image/png": "[encoded data removed]",
      "text/plain": [
       "<Figure size 432x288 with 1 Axes>"
      ]
     },
     "metadata": {
      "needs_background": "light"
     },
     "output_type": "display_data"
    }
   ],
   "source": [
    "# Plotting the decision boundary using whole dataset\n",
    "\n",
    "x1 = X3\n",
    "y1 = y3\n",
    "classifier = model\n",
    "decision_boundry(x1,y1,classifier = model,resolution = 0.01)"
   ]
  },
  {
   "cell_type": "markdown",
   "metadata": {},
   "source": [
    "## Choice #2: Evaluation of the Functionality of a Perceptron Network"
   ]
  },
  {
   "cell_type": "markdown",
   "metadata": {},
   "source": [
    "This section is done for learning purposes only."
   ]
  },
  {
   "cell_type": "markdown",
   "metadata": {},
   "source": [
    "### What is the influence of the size of input vector on training and classification effectiveness of the network?"
   ]
  },
  {
   "cell_type": "code",
   "execution_count": 37,
   "metadata": {},
   "outputs": [
    {
     "name": "stdout",
     "output_type": "stream",
     "text": [
      "(100, 2)\n",
      "(100, 3)\n",
      "(100, 4)\n"
     ]
    }
   ],
   "source": [
    "# Preparing Dataset - IRIS Dataset\n",
    "\n",
    "X1 = df.iloc[0:100, [0,1,2]].values\n",
    "X2 = df.iloc[0:100, [0,1,2,3]].values\n",
    "print(X.shape)\n",
    "print(X1.shape)\n",
    "print(X2.shape)"
   ]
  },
  {
   "cell_type": "code",
   "execution_count": 38,
   "metadata": {},
   "outputs": [],
   "source": [
    "# Splitting datasets in train and test dataset\n",
    "\n",
    "X_1_train,X_1_test,y_1_train,y_1_test = train_test_split(X1,d, test_size = 0.2, random_state = 2019)\n",
    "X_2_train,X_2_test,y_2_train,y_2_test = train_test_split(X2,d, test_size = 0.2, random_state = 2019)"
   ]
  },
  {
   "cell_type": "code",
   "execution_count": 39,
   "metadata": {},
   "outputs": [],
   "source": [
    "# Running the single layer perceptron class and prepare the model\n",
    "\n",
    "lr = 0.01\n",
    "epochs = 10\n",
    "\n",
    "model = SLP(lr = lr, epochs = epochs)\n",
    "model1 = SLP(lr = lr, epochs = epochs)\n",
    "model2 = SLP(lr = lr, epochs = epochs)"
   ]
  },
  {
   "cell_type": "code",
   "execution_count": 40,
   "metadata": {},
   "outputs": [
    {
     "data": {
      "text/plain": [
       "<__main__.SLP at 0x1a185490d0>"
      ]
     },
     "execution_count": 40,
     "metadata": {},
     "output_type": "execute_result"
    }
   ],
   "source": [
    "# Train the model using train dataset\n",
    "\n",
    "model.fit(X_train, y_train)\n",
    "model1.fit(X_1_train, y_1_train)\n",
    "model2.fit(X_2_train, y_2_train)"
   ]
  },
  {
   "cell_type": "code",
   "execution_count": 41,
   "metadata": {},
   "outputs": [
    {
     "name": "stdout",
     "output_type": "stream",
     "text": [
      "[22, 0, 0, 0, 0, 0, 0, 0, 0, 0]\n",
      "[13, 5, 0, 0, 0, 0, 0, 0, 0, 0]\n",
      "[13, 3, 0, 0, 0, 0, 0, 0, 0, 0]\n"
     ]
    }
   ],
   "source": [
    "# Finding Misclassifications on training data\n",
    "\n",
    "Errors_input_vector_2 = model.errors\n",
    "print(Errors_input_vector_2)\n",
    "Errors_input_vector_3 = model1.errors\n",
    "print(Errors_input_vector_3)\n",
    "Errors_input_vector_4 = model2.errors\n",
    "print(Errors_input_vector_4)"
   ]
  },
  {
   "cell_type": "code",
   "execution_count": 42,
   "metadata": {},
   "outputs": [
    {
     "data": {
      "text/plain": [
       "<matplotlib.legend.Legend at 0x1a18549d90>"
      ]
     },
     "execution_count": 42,
     "metadata": {},
     "output_type": "execute_result"
    },
    {
     "data": {
      "image/png": "[encoded data removed]",
      "text/plain": [
       "<Figure size 432x288 with 1 Axes>"
      ]
     },
     "metadata": {
      "needs_background": "light"
     },
     "output_type": "display_data"
    }
   ],
   "source": [
    "# Plotting model performance graph showing how change in input vectors affect the model learning and performance. \n",
    "\n",
    "x_plot = np.arange(1,11)\n",
    "\n",
    "fig = plt.figure()\n",
    "\n",
    "ax = fig.add_subplot(1, 1, 1)\n",
    "\n",
    "y_plot1 = np.asarray(Errors_input_vector_2)\n",
    "y_plot2 = np.asarray(Errors_input_vector_3)\n",
    "y_plot3 = np.asarray(Errors_input_vector_4)\n",
    "\n",
    "plt.plot(x_plot, y_plot1, label = \"Performance @ 2 - Input vectors\")\n",
    "plt.plot(x_plot, y_plot2, label = \"Performance @ 3 - Input vectors\")\n",
    "plt.plot(x_plot, y_plot3, label = \"Performance @ 4 - Input vectors\")\n",
    "plt.xlabel(\"Number of Iterations\")\n",
    "plt.ylabel(\"Misclassifications\")\n",
    "plt.title('Performance graph showing misclassification reduction over iterations')\n",
    "\n",
    "plt.legend()"
   ]
  },
  {
   "cell_type": "markdown",
   "metadata": {},
   "source": [
    "It appears that model learnt best to classify the data when only 2 input vectors are present. "
   ]
  },
  {
   "cell_type": "code",
   "execution_count": 43,
   "metadata": {},
   "outputs": [],
   "source": [
    "# Predicting the values of test dataset using model\n",
    "\n",
    "pred_y = model.predict(X_test)\n",
    "pred_y_1 = model1.predict(X_1_test)\n",
    "pred_y_2 = model2.predict(X_2_test)"
   ]
  },
  {
   "cell_type": "code",
   "execution_count": 44,
   "metadata": {},
   "outputs": [
    {
     "name": "stdout",
     "output_type": "stream",
     "text": [
      "############# With 2 Input Vectors #############\n",
      "############# Accuracy #############\n",
      "Accuracy output of model is:  1.0\n",
      "\n",
      "\n",
      "############# Confusion Matrix #############\n",
      "[[10  0]\n",
      " [ 0 10]]\n",
      "\n",
      "\n",
      "############# Classification Report #############\n",
      "              precision    recall  f1-score   support\n",
      "\n",
      "           0       1.00      1.00      1.00        10\n",
      "           1       1.00      1.00      1.00        10\n",
      "\n",
      "    accuracy                           1.00        20\n",
      "   macro avg       1.00      1.00      1.00        20\n",
      "weighted avg       1.00      1.00      1.00        20\n",
      "\n",
      "\n",
      "\n",
      "############# With 3 Input Vectors #############\n",
      "############# Accuracy #############\n",
      "Accuracy output of model is:  1.0\n",
      "\n",
      "\n",
      "############# Confusion Matrix #############\n",
      "[[10  0]\n",
      " [ 0 10]]\n",
      "\n",
      "\n",
      "############# Classification Report #############\n",
      "              precision    recall  f1-score   support\n",
      "\n",
      "           0       1.00      1.00      1.00        10\n",
      "           1       1.00      1.00      1.00        10\n",
      "\n",
      "    accuracy                           1.00        20\n",
      "   macro avg       1.00      1.00      1.00        20\n",
      "weighted avg       1.00      1.00      1.00        20\n",
      "\n",
      "\n",
      "\n",
      "############# With 4 Input Vectors #############\n",
      "############# Accuracy #############\n",
      "Accuracy output of model is:  1.0\n",
      "\n",
      "\n",
      "############# Confusion Matrix #############\n",
      "[[10  0]\n",
      " [ 0 10]]\n",
      "\n",
      "\n",
      "############# Classification Report #############\n",
      "              precision    recall  f1-score   support\n",
      "\n",
      "           0       1.00      1.00      1.00        10\n",
      "           1       1.00      1.00      1.00        10\n",
      "\n",
      "    accuracy                           1.00        20\n",
      "   macro avg       1.00      1.00      1.00        20\n",
      "weighted avg       1.00      1.00      1.00        20\n",
      "\n"
     ]
    }
   ],
   "source": [
    "# Printing Accuracy, Confusion Matrix and Classification Report\n",
    "print(\"############# With 2 Input Vectors #############\")\n",
    "print ('############# Accuracy #############')\n",
    "print(\"Accuracy output of model is: \", accuracy_score(y_test, pred_y))\n",
    "print (\"\\n\")\n",
    "results = confusion_matrix(y_test, pred_y)\n",
    "print ('############# Confusion Matrix #############')\n",
    "print (\"{}\".format(results))\n",
    "print(\"\\n\")\n",
    "\n",
    "print ('############# Classification Report #############')\n",
    "print (classification_report(y_test, pred_y))\n",
    "\n",
    "# Printing Accuracy, Confusion Matrix and Classification Report\n",
    "print(\"\\n\")\n",
    "print(\"############# With 3 Input Vectors #############\")\n",
    "print ('############# Accuracy #############')\n",
    "print(\"Accuracy output of model is: \", accuracy_score(y_1_test, pred_y_1))\n",
    "print (\"\\n\")\n",
    "results = confusion_matrix(y_1_test, pred_y_1)\n",
    "print ('############# Confusion Matrix #############')\n",
    "print (\"{}\".format(results))\n",
    "print(\"\\n\")\n",
    "\n",
    "print ('############# Classification Report #############')\n",
    "print (classification_report(y_1_test, pred_y_1))\n",
    "\n",
    "# Printing Accuracy, Confusion Matrix and Classification Report\n",
    "print(\"\\n\")\n",
    "print(\"############# With 4 Input Vectors #############\")\n",
    "print ('############# Accuracy #############')\n",
    "print(\"Accuracy output of model is: \", accuracy_score(y_2_test, pred_y_2))\n",
    "print (\"\\n\")\n",
    "results = confusion_matrix(y_2_test, pred_y_2)\n",
    "print ('############# Confusion Matrix #############')\n",
    "print (\"{}\".format(results))\n",
    "print(\"\\n\")\n",
    "\n",
    "print ('############# Classification Report #############')\n",
    "print (classification_report(y_2_test, pred_y_2))"
   ]
  },
  {
   "cell_type": "code",
   "execution_count": 45,
   "metadata": {},
   "outputs": [
    {
     "name": "stdout",
     "output_type": "stream",
     "text": [
      "(500, 5)\n",
      "\n",
      "\n",
      "######## Class 1 ########\n",
      "[[1.40348221 0.89851486 0.67468638 0.89070829 1.        ]\n",
      " [0.89308051 1.27416508 0.90420884 0.88483952 1.        ]\n",
      " [1.12396996 0.51547159 0.99756722 0.87624484 1.        ]\n",
      " ...\n",
      " [0.94418454 1.39964564 1.14014345 0.96933427 1.        ]\n",
      " [0.66039499 1.30917441 1.48194142 0.65647446 1.        ]\n",
      " [0.90528469 1.47673541 0.71162472 1.13082779 1.        ]]\n",
      "(500, 5)\n",
      "\n",
      "\n",
      "######## Class 2 ########\n",
      "[[1.98815774 1.73710878 1.52785304 1.71913649 0.        ]\n",
      " [1.91185002 1.96649758 1.64847911 2.16089312 0.        ]\n",
      " [1.70917879 1.74465896 2.01807146 1.94126574 0.        ]\n",
      " ...\n",
      " [2.3816414  2.23970498 2.34181683 1.51073137 0.        ]\n",
      " [2.28756547 1.64907525 2.38039281 2.40059158 0.        ]\n",
      " [1.57339972 1.79157901 2.01417411 1.6949532  0.        ]]\n",
      "######## Dataset ########\n",
      "[[1.40348221 0.89851486 0.67468638 0.89070829 1.        ]\n",
      " [0.89308051 1.27416508 0.90420884 0.88483952 1.        ]\n",
      " [1.12396996 0.51547159 0.99756722 0.87624484 1.        ]\n",
      " ...\n",
      " [2.3816414  2.23970498 2.34181683 1.51073137 0.        ]\n",
      " [2.28756547 1.64907525 2.38039281 2.40059158 0.        ]\n",
      " [1.57339972 1.79157901 2.01417411 1.6949532  0.        ]]\n",
      "(1000, 5)\n"
     ]
    }
   ],
   "source": [
    "# Generating dataset - class 1\n",
    "\n",
    "np.random.seed(2019)\n",
    "Col_0_Class_1_a = np.random.uniform(0.5, 1.5, 500)\n",
    "Col_1_Class_1_a = np.random.uniform(0.5, 1.5, 500)\n",
    "Col_2_Class_1_a = np.random.uniform(0.5, 1.5, 500)\n",
    "Col_3_Class_1_a = np.random.uniform(0.5, 1.5, 500)\n",
    "Col_4_Class_1_a = [1] * 500\n",
    "class_1_a = np.stack((Col_0_Class_1_a, Col_1_Class_1_a, Col_2_Class_1_a, Col_3_Class_1_a, Col_4_Class_1_a), axis = 1)\n",
    "print(class_1_a.shape)\n",
    "print(\"\\n\")\n",
    "\n",
    "print(\"######## Class 1 ########\")\n",
    "print(class_1_a)\n",
    "\n",
    "# Generating dataset - class 2\n",
    "\n",
    "Col_0_Class_2_a = np.random.uniform(1.5, 2.5, 500)\n",
    "Col_1_Class_2_a = np.random.uniform(1.5, 2.5, 500)\n",
    "Col_2_Class_2_a = np.random.uniform(1.5, 2.5, 500)\n",
    "Col_3_Class_2_a = np.random.uniform(1.5, 2.5, 500)\n",
    "Col_4_Class_2_a = [0] * 500\n",
    "class_2_a = np.stack((Col_0_Class_2_a, Col_1_Class_2_a, Col_2_Class_2_a, Col_3_Class_2_a, Col_4_Class_2_a), axis = 1)\n",
    "print(class_2_a.shape)\n",
    "print(\"\\n\")\n",
    "\n",
    "print(\"######## Class 2 ########\")\n",
    "print(class_2_a)\n",
    "\n",
    "# Merging 2 classes to complete dataset\n",
    "\n",
    "df_uniform_a = np.concatenate((class_1_a, class_2_a))\n",
    "print(\"######## Dataset ########\")\n",
    "print (df_uniform_a)\n",
    "print(df_uniform_a.shape)"
   ]
  },
  {
   "cell_type": "code",
   "execution_count": 46,
   "metadata": {},
   "outputs": [],
   "source": [
    "# Splitting dataset in train and test dataset\n",
    "X3_3 = df_uniform_a[:, 0:3]\n",
    "X3_4 = df_uniform_a[:, 0:4]\n",
    "\n",
    "\n",
    "X3_3_train,X3_3_test,y3_3_train,y3_3_test = train_test_split(X3_3, y3, test_size = 0.2, random_state = 2019)\n",
    "X3_4_train,X3_4_test,y3_4_train,y3_4_test = train_test_split(X3_4, y3, test_size = 0.2, random_state = 2019)"
   ]
  },
  {
   "cell_type": "code",
   "execution_count": 47,
   "metadata": {},
   "outputs": [],
   "source": [
    "# Running the single layer perceptron class and prepare the model\n",
    "\n",
    "lr = 0.01\n",
    "epochs = 10\n",
    "\n",
    "model3 = SLP(lr = lr, epochs = epochs)\n",
    "model4 = SLP(lr = lr, epochs = epochs)\n",
    "model5 = SLP(lr = lr, epochs = epochs)"
   ]
  },
  {
   "cell_type": "code",
   "execution_count": 48,
   "metadata": {},
   "outputs": [
    {
     "data": {
      "text/plain": [
       "<__main__.SLP at 0x1a189db510>"
      ]
     },
     "execution_count": 48,
     "metadata": {},
     "output_type": "execute_result"
    }
   ],
   "source": [
    "model3.fit(X3_train, y3_train)\n",
    "model4.fit(X3_3_train, y3_3_train)\n",
    "model5.fit(X3_4_train, y3_4_train)"
   ]
  },
  {
   "cell_type": "code",
   "execution_count": 49,
   "metadata": {},
   "outputs": [
    {
     "name": "stdout",
     "output_type": "stream",
     "text": [
      "[9, 0, 0, 0, 0, 0, 0, 0, 0, 0]\n",
      "[6, 0, 0, 0, 0, 0, 0, 0, 0, 0]\n",
      "[4, 0, 0, 0, 0, 0, 0, 0, 0, 0]\n"
     ]
    }
   ],
   "source": [
    "Errors_input_vector_2_a = model3.errors\n",
    "print(Errors_input_vector_2_a)\n",
    "Errors_input_vector_3_a = model4.errors\n",
    "print(Errors_input_vector_3_a)\n",
    "Errors_input_vector_4_a = model5.errors\n",
    "print(Errors_input_vector_4_a)"
   ]
  },
  {
   "cell_type": "code",
   "execution_count": 50,
   "metadata": {},
   "outputs": [
    {
     "data": {
      "text/plain": [
       "<matplotlib.legend.Legend at 0x1a189dbd10>"
      ]
     },
     "execution_count": 50,
     "metadata": {},
     "output_type": "execute_result"
    },
    {
     "data": {
      "image/png": "[encoded data removed]",
      "text/plain": [
       "<Figure size 432x288 with 1 Axes>"
      ]
     },
     "metadata": {
      "needs_background": "light"
     },
     "output_type": "display_data"
    }
   ],
   "source": [
    "x_plot = np.arange(1,11)\n",
    "\n",
    "fig = plt.figure()\n",
    "\n",
    "ax = fig.add_subplot(1, 1, 1)\n",
    "\n",
    "y_plot1 = np.asarray(Errors_input_vector_2_a)\n",
    "y_plot2 = np.asarray(Errors_input_vector_3_a)\n",
    "y_plot3 = np.asarray(Errors_input_vector_4_a)\n",
    "\n",
    "plt.plot(x_plot, y_plot1, label = \"Performance @ 2 - Input vectors\")\n",
    "plt.plot(x_plot, y_plot2, label = \"Performance @ 3 - Input vectors\")\n",
    "plt.plot(x_plot, y_plot3, label = \"Performance @ 4 - Input vectors\")\n",
    "plt.xlabel(\"Number of Iterations\")\n",
    "plt.ylabel(\"Misclassifications\")\n",
    "plt.title('Performance graph showing misclassification reduction over iterations')\n",
    "\n",
    "plt.legend()"
   ]
  },
  {
   "cell_type": "markdown",
   "metadata": {},
   "source": [
    "For this dataset, model learnt after 2nd iteration for all different number of input vectors. "
   ]
  },
  {
   "cell_type": "code",
   "execution_count": 51,
   "metadata": {},
   "outputs": [],
   "source": [
    "# Predicting the values of test dataset using model\n",
    "\n",
    "pred_y3 = model3.predict(X3_test)\n",
    "pred_y3_3 = model4.predict(X3_3_test)\n",
    "pred_y3_4 = model5.predict(X3_4_test)"
   ]
  },
  {
   "cell_type": "code",
   "execution_count": 52,
   "metadata": {},
   "outputs": [
    {
     "name": "stdout",
     "output_type": "stream",
     "text": [
      "############# With 2 Input Vectors #############\n",
      "############# Accuracy #############\n",
      "Accuracy output of model is:  1.0\n",
      "\n",
      "\n",
      "############# Confusion Matrix #############\n",
      "[[ 95   0]\n",
      " [  0 105]]\n",
      "\n",
      "\n",
      "############# Classification Report #############\n",
      "              precision    recall  f1-score   support\n",
      "\n",
      "         0.0       1.00      1.00      1.00        95\n",
      "         1.0       1.00      1.00      1.00       105\n",
      "\n",
      "    accuracy                           1.00       200\n",
      "   macro avg       1.00      1.00      1.00       200\n",
      "weighted avg       1.00      1.00      1.00       200\n",
      "\n",
      "\n",
      "\n",
      "############# With 3 Input Vectors #############\n",
      "############# Accuracy #############\n",
      "Accuracy output of model is:  1.0\n",
      "\n",
      "\n",
      "############# Confusion Matrix #############\n",
      "[[ 95   0]\n",
      " [  0 105]]\n",
      "\n",
      "\n",
      "############# Classification Report #############\n",
      "              precision    recall  f1-score   support\n",
      "\n",
      "         0.0       1.00      1.00      1.00        95\n",
      "         1.0       1.00      1.00      1.00       105\n",
      "\n",
      "    accuracy                           1.00       200\n",
      "   macro avg       1.00      1.00      1.00       200\n",
      "weighted avg       1.00      1.00      1.00       200\n",
      "\n",
      "\n",
      "\n",
      "############# With 4 Input Vectors #############\n",
      "############# Accuracy #############\n",
      "Accuracy output of model is:  1.0\n",
      "\n",
      "\n",
      "############# Confusion Matrix #############\n",
      "[[ 95   0]\n",
      " [  0 105]]\n",
      "\n",
      "\n",
      "############# Classification Report #############\n",
      "              precision    recall  f1-score   support\n",
      "\n",
      "         0.0       1.00      1.00      1.00        95\n",
      "         1.0       1.00      1.00      1.00       105\n",
      "\n",
      "    accuracy                           1.00       200\n",
      "   macro avg       1.00      1.00      1.00       200\n",
      "weighted avg       1.00      1.00      1.00       200\n",
      "\n"
     ]
    }
   ],
   "source": [
    "# Printing Accuracy, Confusion Matrix and Classification Report\n",
    "print(\"############# With 2 Input Vectors #############\")\n",
    "print ('############# Accuracy #############')\n",
    "print(\"Accuracy output of model is: \", accuracy_score(y3_test, pred_y3))\n",
    "print (\"\\n\")\n",
    "results = confusion_matrix(y3_test, pred_y3)\n",
    "print ('############# Confusion Matrix #############')\n",
    "print (\"{}\".format(results))\n",
    "print(\"\\n\")\n",
    "\n",
    "print ('############# Classification Report #############')\n",
    "print (classification_report(y3_test, pred_y3))\n",
    "\n",
    "# Printing Accuracy, Confusion Matrix and Classification Report\n",
    "print(\"\\n\")\n",
    "print(\"############# With 3 Input Vectors #############\")\n",
    "print ('############# Accuracy #############')\n",
    "print(\"Accuracy output of model is: \", accuracy_score(y3_3_test, pred_y3_3))\n",
    "print (\"\\n\")\n",
    "results = confusion_matrix(y3_3_test, pred_y3_3)\n",
    "print ('############# Confusion Matrix #############')\n",
    "print (\"{}\".format(results))\n",
    "print(\"\\n\")\n",
    "\n",
    "print ('############# Classification Report #############')\n",
    "print (classification_report(y3_3_test, pred_y3_3))\n",
    "\n",
    "# Printing Accuracy, Confusion Matrix and Classification Report\n",
    "print(\"\\n\")\n",
    "print(\"############# With 4 Input Vectors #############\")\n",
    "print ('############# Accuracy #############')\n",
    "print(\"Accuracy output of model is: \", accuracy_score(y3_4_test, pred_y3_4))\n",
    "print (\"\\n\")\n",
    "results = confusion_matrix(y3_4_test, pred_y3_4)\n",
    "print ('############# Confusion Matrix #############')\n",
    "print (\"{}\".format(results))\n",
    "print(\"\\n\")\n",
    "\n",
    "print ('############# Classification Report #############')\n",
    "print (classification_report(y3_4_test, pred_y3_4))"
   ]
  },
  {
   "cell_type": "markdown",
   "metadata": {},
   "source": [
    "Conclusion: Higher the number of input vectors reduces the number of misclassifications from first iteration. However, the number of iterations required for correct classificaiton could increase."
   ]
  },
  {
   "cell_type": "markdown",
   "metadata": {},
   "source": [
    "### What is the influence of the learning rate on the total number of iterations required for training?"
   ]
  },
  {
   "cell_type": "markdown",
   "metadata": {},
   "source": [
    "Steps:\n",
    "- We'll use dataset previously generated using random uniform numbers. \n",
    "- We'll run the same model but we'll change the learning rate and record the errors keeping the number of iterations same to see the influence of learning rate.\n",
    "- we'll use 4 learning rates - 0.0001, 0.001, 0.01, 0.1"
   ]
  },
  {
   "cell_type": "code",
   "execution_count": 53,
   "metadata": {},
   "outputs": [
    {
     "name": "stdout",
     "output_type": "stream",
     "text": [
      "[[1.40348221 0.89851486 1.        ]\n",
      " [0.89308051 1.27416508 1.        ]\n",
      " [1.12396996 0.51547159 1.        ]\n",
      " ...\n",
      " [2.14014345 1.96933427 0.        ]\n",
      " [2.48194142 1.65647446 0.        ]\n",
      " [1.71162472 2.13082779 0.        ]]\n",
      "\n",
      "\n",
      "X3_train:  [[2.07616977 1.69270203]\n",
      " [2.02114356 2.1864221 ]\n",
      " [2.16493303 2.20591277]\n",
      " ...\n",
      " [0.70009796 1.3827547 ]\n",
      " [0.52904212 0.87089582]\n",
      " [0.92188698 0.8317662 ]]\n",
      "\n",
      "\n",
      "X3_test:  [[0.63041596 1.08079221]\n",
      " [1.59723742 2.00493377]\n",
      " [1.86464953 1.87436975]\n",
      " [1.957768   1.69917252]\n",
      " [1.48755692 1.22660847]\n",
      " [2.24328091 1.98841848]\n",
      " [0.63275067 1.2651272 ]\n",
      " [0.63700328 0.98114139]\n",
      " [2.0559468  1.84880093]\n",
      " [1.71162472 2.13082779]\n",
      " [0.93753881 1.44819079]\n",
      " [2.49893255 2.15714454]\n",
      " [1.26458832 1.39344286]\n",
      " [0.7147578  0.83878927]\n",
      " [1.31562092 0.89063228]\n",
      " [1.21868679 1.43147312]\n",
      " [1.01361992 1.16075803]\n",
      " [1.40348221 0.89851486]\n",
      " [2.18315223 1.97995364]\n",
      " [0.53395538 0.71464578]\n",
      " [0.88581931 1.03866268]\n",
      " [2.45670736 2.10281285]\n",
      " [1.96180148 1.81740835]\n",
      " [0.86202823 0.83846075]\n",
      " [0.73968838 1.28492497]\n",
      " [0.79708893 0.86354948]\n",
      " [1.44330079 0.61054794]\n",
      " [1.2863886  0.93389985]\n",
      " [1.64077521 2.05872388]\n",
      " [1.1184162  0.82688571]\n",
      " [2.02342778 2.22274697]\n",
      " [2.28477945 2.23925115]\n",
      " [1.38900112 1.41517265]\n",
      " [2.19703535 1.59779712]\n",
      " [1.85444856 2.25549484]\n",
      " [0.77812941 0.51411952]\n",
      " [1.34629795 1.19497308]\n",
      " [0.71686308 1.10424587]\n",
      " [2.44511117 1.94622484]\n",
      " [0.82548516 1.25548003]\n",
      " [0.62430064 0.94702768]\n",
      " [1.38601087 0.92269486]\n",
      " [0.50692087 1.1909921 ]\n",
      " [2.2554863  2.23583466]\n",
      " [2.37916001 1.88685816]\n",
      " [1.68085114 1.8488823 ]\n",
      " [2.09092141 2.4567642 ]\n",
      " [1.24460487 1.26214119]\n",
      " [1.14708819 1.18458517]\n",
      " [1.87547232 1.70753058]\n",
      " [2.33000421 1.83937161]\n",
      " [1.58182756 1.86354256]\n",
      " [0.53687596 0.55537001]\n",
      " [0.54659494 1.37089862]\n",
      " [2.41249804 2.06570518]\n",
      " [1.14250635 1.25541241]\n",
      " [1.40502811 0.70374959]\n",
      " [1.19432765 1.16575872]\n",
      " [2.18333516 1.50425   ]\n",
      " [1.77616897 2.18136346]\n",
      " [1.18218738 0.8772663 ]\n",
      " [0.63221087 0.54923857]\n",
      " [1.12609663 0.76383405]\n",
      " [1.80622874 2.06906162]\n",
      " [0.95436297 0.70430245]\n",
      " [0.61897079 1.39472868]\n",
      " [2.01248837 2.07776402]\n",
      " [1.65555451 2.10858829]\n",
      " [1.74149734 2.15564028]\n",
      " [1.04631244 0.72476625]\n",
      " [1.69727035 2.41437765]\n",
      " [1.72027213 1.73904718]\n",
      " [2.17352625 2.37830696]\n",
      " [1.52639138 1.98970096]\n",
      " [0.92695092 1.03598755]\n",
      " [1.65232207 2.2564518 ]\n",
      " [1.41542946 1.22654941]\n",
      " [0.5380261  1.48364762]\n",
      " [0.78997792 0.83585039]\n",
      " [2.18415706 1.97468881]\n",
      " [2.0393468  1.98067079]\n",
      " [1.57682038 2.34181296]\n",
      " [1.47893264 0.78269393]\n",
      " [0.82036764 1.07576161]\n",
      " [1.71238941 2.21379827]\n",
      " [2.47254346 1.82373615]\n",
      " [1.80968584 1.93105727]\n",
      " [0.88606487 1.11293964]\n",
      " [1.16349515 0.75793677]\n",
      " [2.03723661 1.7663443 ]\n",
      " [1.15305537 0.57881529]\n",
      " [2.35360744 2.3240781 ]\n",
      " [1.98438572 2.13063294]\n",
      " [0.75063809 1.03988407]\n",
      " [2.37730921 1.74016547]\n",
      " [1.05230559 0.92813541]\n",
      " [2.23472358 1.90090301]\n",
      " [0.73035004 1.24456027]\n",
      " [1.33966284 0.9119515 ]\n",
      " [2.19019187 1.99736002]\n",
      " [1.11742965 0.91379463]\n",
      " [1.15668559 1.05433968]\n",
      " [0.79917202 0.72482731]\n",
      " [1.55545865 1.98683089]\n",
      " [1.98945069 1.99851231]\n",
      " [2.14885831 1.59016868]\n",
      " [1.95970562 1.50371933]\n",
      " [1.32893697 0.53776096]\n",
      " [2.08268487 2.46145932]\n",
      " [0.51540782 0.7298195 ]\n",
      " [1.35565916 0.94213217]\n",
      " [0.95246511 1.48024969]\n",
      " [0.57555116 0.68226388]\n",
      " [2.39620814 1.84409973]\n",
      " [1.39886165 0.53955891]\n",
      " [0.82628455 0.8660534 ]\n",
      " [1.19850726 1.2518569 ]\n",
      " [1.36255827 1.18881017]\n",
      " [1.03630059 0.94881749]\n",
      " [1.08197647 1.07637394]\n",
      " [1.77334579 2.22977424]\n",
      " [2.34325983 2.03185245]\n",
      " [1.03493429 1.17274607]\n",
      " [1.07381853 1.0600186 ]\n",
      " [0.57022822 1.11323537]\n",
      " [2.48300998 2.12815117]\n",
      " [1.00907615 0.58029652]\n",
      " [2.09599604 2.28895777]\n",
      " [2.0838778  1.99261341]\n",
      " [0.91856464 1.03498076]\n",
      " [1.20865429 1.1348441 ]\n",
      " [2.27365628 1.52213005]\n",
      " [1.97631797 1.6822904 ]\n",
      " [2.20556971 1.87503236]\n",
      " [1.25329654 0.80855193]\n",
      " [1.83932994 1.56275036]\n",
      " [1.5827608  2.24368724]\n",
      " [0.58123239 1.23024521]\n",
      " [2.12190503 1.83587589]\n",
      " [0.85362047 1.05074351]\n",
      " [2.00797318 2.47667466]\n",
      " [1.56586469 2.33611641]\n",
      " [0.84183758 1.2385402 ]\n",
      " [1.91446303 2.0043956 ]\n",
      " [2.01961448 1.80086041]\n",
      " [0.98333228 0.74040804]\n",
      " [1.36355701 0.56232107]\n",
      " [1.44788322 0.72511603]\n",
      " [2.40374933 1.64633156]\n",
      " [0.95182067 0.8414489 ]\n",
      " [0.89669789 1.16946318]\n",
      " [0.7538781  1.22882076]\n",
      " [2.43380719 1.76998507]\n",
      " [1.182133   0.9610458 ]\n",
      " [1.6842121  2.12416791]\n",
      " [0.6476601  0.79210726]\n",
      " [1.62744446 2.03414398]\n",
      " [0.67650325 0.77863718]\n",
      " [2.35908498 2.35398932]\n",
      " [2.17562764 1.68358862]\n",
      " [1.55492535 1.65403707]\n",
      " [0.59043587 0.87369385]\n",
      " [2.05515539 1.58105882]\n",
      " [1.05528971 1.18799149]\n",
      " [0.62595682 1.26220448]\n",
      " [1.36299107 1.06579641]\n",
      " [1.22836444 1.00979006]\n",
      " [0.64976457 1.22718126]\n",
      " [0.62066097 1.21321169]\n",
      " [0.67458087 1.19893973]\n",
      " [0.82568732 1.32367322]\n",
      " [2.2248594  2.08767706]\n",
      " [1.22542355 0.77181692]\n",
      " [1.95664624 1.68195344]\n",
      " [2.37877531 2.37875739]\n",
      " [2.26691745 2.08362037]\n",
      " [2.40898998 2.40940378]\n",
      " [1.45515348 1.25380509]\n",
      " [1.70755829 2.06216422]\n",
      " [2.38362591 2.00160085]\n",
      " [2.27506734 1.68665854]\n",
      " [1.88681188 2.0805719 ]\n",
      " [2.34132849 2.18201313]\n",
      " [1.66058006 1.73269394]\n",
      " [1.38049907 0.67075664]\n",
      " [1.46511841 0.73485561]\n",
      " [1.92341497 2.01983294]\n",
      " [1.21672375 0.67675464]\n",
      " [1.91088533 1.99723403]\n",
      " [0.81771407 0.86452824]\n",
      " [1.27012065 0.88722982]\n",
      " [1.52423828 1.50298002]\n",
      " [1.91630936 2.39058146]\n",
      " [2.19006077 1.59442962]\n",
      " [1.55958302 1.57933017]\n",
      " [2.10106447 1.92171805]\n",
      " [1.18633557 1.12795933]\n",
      " [0.63636652 0.79800273]\n",
      " [1.05454904 0.96307038]\n",
      " [2.02745576 2.00188473]]\n",
      "\n",
      "\n",
      "y3_train:  [0. 0. 0. 1. 0. 1. 1. 0. 1. 0. 1. 0. 1. 1. 0. 1. 0. 1. 0. 0. 1. 0. 1. 1.\n",
      " 0. 0. 1. 0. 0. 0. 1. 0. 0. 1. 0. 0. 0. 0. 0. 1. 1. 0. 1. 0. 1. 1. 1. 0.\n",
      " 0. 1. 1. 0. 1. 1. 0. 1. 0. 0. 1. 0. 0. 1. 1. 0. 0. 1. 1. 1. 0. 0. 1. 0.\n",
      " 0. 1. 0. 1. 0. 1. 1. 0. 1. 1. 1. 1. 0. 0. 1. 0. 0. 1. 1. 1. 1. 0. 1. 1.\n",
      " 1. 0. 1. 0. 0. 1. 0. 0. 0. 0. 1. 1. 0. 0. 0. 1. 1. 1. 0. 1. 0. 1. 1. 1.\n",
      " 0. 0. 0. 1. 1. 0. 1. 0. 0. 1. 1. 0. 1. 0. 0. 0. 0. 0. 1. 1. 1. 0. 1. 1.\n",
      " 0. 1. 1. 1. 0. 0. 1. 1. 0. 0. 1. 0. 0. 1. 1. 0. 1. 1. 0. 0. 0. 1. 0. 0.\n",
      " 1. 1. 0. 1. 1. 0. 0. 1. 1. 0. 0. 1. 1. 0. 0. 0. 1. 0. 0. 0. 1. 1. 1. 0.\n",
      " 0. 1. 0. 0. 1. 1. 1. 1. 1. 0. 1. 0. 0. 1. 1. 0. 0. 0. 0. 1. 1. 1. 0. 0.\n",
      " 1. 0. 1. 0. 0. 1. 0. 0. 1. 0. 0. 0. 0. 0. 1. 1. 1. 1. 1. 0. 0. 1. 0. 0.\n",
      " 0. 0. 0. 0. 1. 0. 0. 0. 0. 0. 0. 0. 1. 1. 1. 1. 0. 1. 0. 1. 1. 1. 0. 1.\n",
      " 0. 1. 1. 1. 0. 0. 1. 1. 0. 0. 1. 1. 0. 1. 0. 0. 0. 0. 1. 1. 0. 1. 0. 0.\n",
      " 0. 1. 1. 1. 0. 1. 1. 0. 1. 0. 0. 0. 1. 0. 1. 1. 1. 1. 1. 0. 0. 0. 1. 1.\n",
      " 0. 1. 0. 0. 0. 0. 0. 0. 1. 0. 0. 0. 1. 0. 1. 1. 0. 1. 1. 0. 1. 1. 1. 0.\n",
      " 0. 0. 1. 1. 0. 1. 0. 1. 1. 1. 0. 0. 1. 0. 1. 0. 1. 1. 0. 0. 1. 1. 1. 0.\n",
      " 1. 1. 1. 1. 1. 0. 0. 1. 1. 1. 0. 0. 0. 0. 0. 1. 0. 0. 0. 1. 0. 1. 0. 1.\n",
      " 1. 1. 0. 0. 0. 0. 0. 1. 0. 0. 0. 0. 1. 0. 0. 0. 1. 0. 0. 1. 0. 1. 1. 1.\n",
      " 0. 1. 0. 1. 1. 0. 0. 0. 0. 0. 1. 0. 0. 1. 1. 1. 0. 0. 1. 1. 0. 0. 0. 1.\n",
      " 1. 0. 0. 0. 1. 0. 0. 0. 1. 0. 0. 0. 0. 1. 0. 1. 1. 1. 1. 1. 1. 1. 1. 0.\n",
      " 0. 1. 1. 0. 1. 0. 1. 0. 1. 1. 0. 1. 1. 0. 0. 0. 1. 1. 0. 1. 1. 0. 1. 0.\n",
      " 1. 0. 0. 1. 1. 1. 1. 0. 0. 1. 1. 0. 1. 0. 0. 1. 0. 1. 1. 1. 0. 1. 1. 0.\n",
      " 0. 0. 1. 1. 0. 0. 1. 1. 1. 1. 1. 1. 0. 0. 1. 0. 1. 0. 0. 1. 0. 0. 0. 1.\n",
      " 0. 0. 0. 1. 0. 1. 0. 1. 1. 1. 1. 0. 1. 1. 0. 0. 1. 1. 0. 0. 1. 0. 0. 1.\n",
      " 0. 0. 1. 0. 1. 1. 1. 0. 1. 0. 1. 0. 0. 1. 0. 1. 1. 1. 1. 0. 1. 0. 0. 1.\n",
      " 0. 1. 1. 1. 1. 0. 1. 1. 1. 0. 0. 0. 1. 0. 1. 0. 0. 1. 0. 1. 0. 1. 0. 0.\n",
      " 0. 0. 1. 1. 0. 0. 1. 0. 1. 0. 1. 1. 1. 0. 0. 1. 0. 1. 0. 0. 0. 1. 1. 1.\n",
      " 1. 0. 1. 0. 1. 1. 0. 1. 1. 0. 1. 0. 0. 0. 1. 0. 1. 0. 0. 0. 0. 0. 1. 1.\n",
      " 1. 1. 0. 0. 1. 1. 1. 1. 1. 0. 0. 0. 0. 1. 1. 1. 0. 0. 0. 0. 1. 1. 0. 0.\n",
      " 1. 1. 1. 1. 0. 1. 0. 1. 0. 1. 0. 0. 1. 0. 0. 1. 0. 1. 0. 0. 1. 0. 0. 0.\n",
      " 0. 1. 0. 1. 1. 0. 1. 0. 1. 1. 0. 0. 0. 1. 1. 1. 1. 0. 1. 0. 0. 1. 0. 0.\n",
      " 1. 1. 1. 1. 1. 0. 0. 0. 0. 0. 0. 1. 1. 0. 0. 1. 0. 0. 0. 1. 1. 1. 1. 1.\n",
      " 0. 0. 0. 1. 1. 1. 1. 0. 1. 1. 0. 0. 1. 1. 1. 1. 0. 0. 1. 1. 1. 0. 1. 0.\n",
      " 0. 0. 0. 0. 1. 1. 0. 0. 1. 0. 1. 1. 0. 0. 1. 0. 0. 1. 1. 1. 1. 1. 1. 0.\n",
      " 1. 0. 1. 0. 0. 1. 1. 1.]\n",
      "\n",
      "\n",
      "y3_test:  [1. 0. 0. 0. 1. 0. 1. 1. 0. 0. 1. 0. 1. 1. 1. 1. 1. 1. 0. 1. 1. 0. 0. 1.\n",
      " 1. 1. 1. 1. 0. 1. 0. 0. 1. 0. 0. 1. 1. 1. 0. 1. 1. 1. 1. 0. 0. 0. 0. 1.\n",
      " 1. 0. 0. 0. 1. 1. 0. 1. 1. 1. 0. 0. 1. 1. 1. 0. 1. 1. 0. 0. 0. 1. 0. 0.\n",
      " 0. 0. 1. 0. 1. 1. 1. 0. 0. 0. 1. 1. 0. 0. 0. 1. 1. 0. 1. 0. 0. 1. 0. 1.\n",
      " 0. 1. 1. 0. 1. 1. 1. 0. 0. 0. 0. 1. 0. 1. 1. 1. 1. 0. 1. 1. 1. 1. 1. 1.\n",
      " 0. 0. 1. 1. 1. 0. 1. 0. 0. 1. 1. 0. 0. 0. 1. 0. 0. 1. 0. 1. 0. 0. 1. 0.\n",
      " 0. 1. 1. 1. 0. 1. 1. 1. 0. 1. 0. 1. 0. 1. 0. 0. 0. 1. 0. 1. 1. 1. 1. 1.\n",
      " 1. 1. 1. 0. 1. 0. 0. 0. 0. 1. 0. 0. 0. 0. 0. 0. 1. 1. 0. 1. 0. 1. 1. 0.\n",
      " 0. 0. 0. 0. 1. 1. 1. 0.]\n"
     ]
    }
   ],
   "source": [
    "# Dataset\n",
    "print(df_uniform)\n",
    "print(\"\\n\")\n",
    "print(\"X3_train: \", X3_train)\n",
    "print(\"\\n\")\n",
    "print(\"X3_test: \", X3_test)\n",
    "print(\"\\n\")\n",
    "print(\"y3_train: \",y3_train)\n",
    "print(\"\\n\")\n",
    "print(\"y3_test: \", y3_test)"
   ]
  },
  {
   "cell_type": "code",
   "execution_count": 54,
   "metadata": {},
   "outputs": [],
   "source": [
    "# # Running the single layer perceptron class and prepare the model\n",
    "\n",
    "lr1 = 0.0001\n",
    "lr2 = 0.001\n",
    "lr3 = 0.01\n",
    "lr4 = 0.1\n",
    "epochs = 60\n",
    "\n",
    "model1 = SLP(lr = lr1, epochs = epochs)\n",
    "model2 = SLP(lr = lr2, epochs = epochs)\n",
    "model3 = SLP(lr = lr3, epochs = epochs)\n",
    "model4 = SLP(lr = lr4, epochs = epochs)"
   ]
  },
  {
   "cell_type": "code",
   "execution_count": 55,
   "metadata": {},
   "outputs": [
    {
     "name": "stdout",
     "output_type": "stream",
     "text": [
      "[405, 266, 74, 35, 23, 17, 10, 7, 5, 5, 3, 2, 2, 1, 1, 1, 1, 1, 1, 1, 1, 1, 1, 1, 1, 1, 0, 0, 0, 0, 0, 0, 0, 0, 0, 0, 0, 0, 0, 0, 0, 0, 0, 0, 0, 0, 0, 0, 0, 0, 0, 0, 0, 0, 0, 0, 0, 0, 0, 0]\n",
      "[85, 2, 0, 0, 0, 0, 0, 0, 0, 0, 0, 0, 0, 0, 0, 0, 0, 0, 0, 0, 0, 0, 0, 0, 0, 0, 0, 0, 0, 0, 0, 0, 0, 0, 0, 0, 0, 0, 0, 0, 0, 0, 0, 0, 0, 0, 0, 0, 0, 0, 0, 0, 0, 0, 0, 0, 0, 0, 0, 0]\n",
      "[9, 0, 0, 0, 0, 0, 0, 0, 0, 0, 0, 0, 0, 0, 0, 0, 0, 0, 0, 0, 0, 0, 0, 0, 0, 0, 0, 0, 0, 0, 0, 0, 0, 0, 0, 0, 0, 0, 0, 0, 0, 0, 0, 0, 0, 0, 0, 0, 0, 0, 0, 0, 0, 0, 0, 0, 0, 0, 0, 0]\n",
      "[17, 0, 0, 0, 0, 0, 0, 0, 0, 0, 0, 0, 0, 0, 0, 0, 0, 0, 0, 0, 0, 0, 0, 0, 0, 0, 0, 0, 0, 0, 0, 0, 0, 0, 0, 0, 0, 0, 0, 0, 0, 0, 0, 0, 0, 0, 0, 0, 0, 0, 0, 0, 0, 0, 0, 0, 0, 0, 0, 0]\n"
     ]
    }
   ],
   "source": [
    "# Train the model using train dataset\n",
    "\n",
    "model1.fit(X3_train, y3_train)\n",
    "Errors_lr_0001 = model1.errors\n",
    "print(Errors_lr_0001)\n",
    "model2.fit(X3_train, y3_train)\n",
    "Errors_lr_001 = model2.errors\n",
    "print(Errors_lr_001)\n",
    "model3.fit(X3_train, y3_train)\n",
    "Errors_lr_01 = model3.errors\n",
    "print(Errors_lr_01)\n",
    "model4.fit(X3_train, y3_train)\n",
    "Errors_lr_1 = model4.errors\n",
    "print(Errors_lr_1)"
   ]
  },
  {
   "cell_type": "code",
   "execution_count": 56,
   "metadata": {},
   "outputs": [
    {
     "data": {
      "text/plain": [
       "<matplotlib.legend.Legend at 0x1a184c8bd0>"
      ]
     },
     "execution_count": 56,
     "metadata": {},
     "output_type": "execute_result"
    },
    {
     "data": {
      "text/plain": [
       "<Figure size 432x288 with 0 Axes>"
      ]
     },
     "metadata": {},
     "output_type": "display_data"
    },
    {
     "data": {
      "image/png": "[encoded data removed]",
      "text/plain": [
       "<Figure size 864x720 with 1 Axes>"
      ]
     },
     "metadata": {
      "needs_background": "light"
     },
     "output_type": "display_data"
    }
   ],
   "source": [
    "x_plot = np.arange(1,61)\n",
    "\n",
    "fig = plt.figure()\n",
    "fig= plt.figure(figsize=(12,10))\n",
    "ax = fig.add_subplot(1, 1, 1)\n",
    "\n",
    "# Major ticks every 20, minor ticks every 5\n",
    "major_ticks = np.arange(0, 420, 20)\n",
    "minor_ticks = np.arange(0, 420, 5)\n",
    "\n",
    "ax.set_xticks(major_ticks)\n",
    "ax.set_xticks(minor_ticks, minor=True)\n",
    "ax.set_yticks(major_ticks)\n",
    "ax.set_yticks(minor_ticks, minor=True)\n",
    "\n",
    "y_plot1 = np.asarray(Errors_lr_0001)\n",
    "y_plot2 = np.asarray(Errors_lr_001)\n",
    "y_plot3 = np.asarray(Errors_lr_01)\n",
    "y_plot4 = np.asarray(Errors_lr_1)\n",
    "plt.plot(x_plot, y_plot1, label = \"Performance @ Learning Rate 0.0001\")\n",
    "plt.plot(x_plot, y_plot2, label = \"Performance @ Learning Rate 0.001\")\n",
    "plt.plot(x_plot, y_plot3, label = \"Performance @ Learning Rate 0.01\")\n",
    "plt.plot(x_plot, y_plot4, label = \"Performance @ Learning Rate 0.1\")\n",
    "\n",
    "plt.xlabel(\"Number of Iterations\")\n",
    "plt.ylabel(\"Misclassifications\")\n",
    "plt.title('Performance graph showing misclassification reduction over iterations')\n",
    "\n",
    "plt.legend()"
   ]
  },
  {
   "cell_type": "markdown",
   "metadata": {},
   "source": [
    "**Conclusion:**\n",
    "\n",
    "From above plot and values of misclassifications, we can conclude that there is a relationship between learning rate and number of iterations. With learning rate too low, we need to have large number of iterations to train the model. However, if we increase the learning rate too much, it could still have more errors in begining but with dataset large enough, model will learn the correct classification.\n",
    "\n",
    "In above case, with learning rate 0.0001 and 0.001, model is showing higher number of misclassifications. Similarly, when our learning rate is too high - 0.1, model again shows higher number of misclassifications in the begining. In our example, learning rate of 0.01 shows the best results. \n"
   ]
  },
  {
   "cell_type": "markdown",
   "metadata": {},
   "source": [
    "## What is behavior of the network when subjected to nonlinearly separable classes?"
   ]
  },
  {
   "cell_type": "code",
   "execution_count": 57,
   "metadata": {},
   "outputs": [
    {
     "data": {
      "text/plain": [
       "array([[-0.2418, -0.8484,  1.    ],\n",
       "       [-1.6919,  1.0404,  1.    ],\n",
       "       [-0.3198,  0.6226,  1.    ],\n",
       "       ...,\n",
       "       [ 0.1829,  0.9806,  0.    ],\n",
       "       [ 0.5088,  1.3952,  0.    ],\n",
       "       [ 1.8675,  0.8729,  0.    ]])"
      ]
     },
     "execution_count": 57,
     "metadata": {},
     "output_type": "execute_result"
    }
   ],
   "source": [
    "# Making a guassian dataset\n",
    "\n",
    "df_guassian = pd.read_excel('GaussianDistributions.xlsx', header = None)\n",
    "df_guassian = df_guassian.to_numpy()\n",
    "df_guassian"
   ]
  },
  {
   "cell_type": "code",
   "execution_count": 58,
   "metadata": {},
   "outputs": [
    {
     "data": {
      "image/png": "[encoded data removed]",
      "text/plain": [
       "<Figure size 432x288 with 1 Axes>"
      ]
     },
     "metadata": {
      "needs_background": "light"
     },
     "output_type": "display_data"
    }
   ],
   "source": [
    "# Plotting the dataset to check whether data is linearly separable or not.\n",
    "\n",
    "plot_data(df_guassian, \"class_1\", \"class_2\", \"Input 1\", \"Input 2\")"
   ]
  },
  {
   "cell_type": "code",
   "execution_count": 59,
   "metadata": {},
   "outputs": [],
   "source": [
    "# Splitting dataset in train and test dataset\n",
    "\n",
    "X21 = df_guassian[:, 0:2]\n",
    "y21 = df_guassian[:, -1]\n",
    "X21_train,X21_test,y21_train,y21_test = train_test_split(X21, y21, test_size = 0.2, random_state = 2019)"
   ]
  },
  {
   "cell_type": "code",
   "execution_count": 60,
   "metadata": {},
   "outputs": [
    {
     "data": {
      "text/plain": [
       "<__main__.SLP at 0x1a1868f290>"
      ]
     },
     "execution_count": 60,
     "metadata": {},
     "output_type": "execute_result"
    }
   ],
   "source": [
    "# Running the single layer perceptron class and prepare the model\n",
    "\n",
    "lr = 0.01\n",
    "epochs = 1000\n",
    "\n",
    "model21 = SLP(lr = lr, epochs = epochs)\n",
    "model21"
   ]
  },
  {
   "cell_type": "code",
   "execution_count": 61,
   "metadata": {},
   "outputs": [
    {
     "data": {
      "text/plain": [
       "<__main__.SLP at 0x1a1868f290>"
      ]
     },
     "execution_count": 61,
     "metadata": {},
     "output_type": "execute_result"
    }
   ],
   "source": [
    "# Train the model using train dataset\n",
    "\n",
    "model21.fit(X21_train, y21_train)"
   ]
  },
  {
   "cell_type": "code",
   "execution_count": 62,
   "metadata": {},
   "outputs": [
    {
     "name": "stdout",
     "output_type": "stream",
     "text": [
      "[66, 27, 20, 18, 15, 13, 13, 10, 10, 9, 9, 8, 8, 8, 8, 7, 7, 7, 7, 7, 7, 7, 7, 7, 7, 8, 7, 7, 6, 6, 6, 6, 6, 6, 6, 6, 6, 6, 6, 6, 6, 6, 7, 6, 6, 6, 6, 6, 6, 6, 6, 6, 6, 6, 6, 5, 6, 6, 6, 6, 5, 6, 6, 6, 5, 6, 6, 6, 6, 5, 6, 6, 6, 5, 6, 6, 6, 6, 5, 6, 6, 6, 6, 5, 6, 6, 6, 5, 6, 6, 6, 6, 5, 6, 6, 6, 6, 5, 6, 6, 6, 5, 6, 6, 6, 6, 5, 6, 6, 6, 6, 5, 6, 6, 6, 5, 6, 6, 6, 6, 5, 6, 6, 6, 5, 6, 6, 6, 6, 5, 6, 6, 6, 6, 5, 6, 6, 6, 5, 6, 6, 6, 6, 5, 6, 6, 6, 6, 5, 6, 6, 6, 5, 6, 6, 6, 6, 5, 6, 6, 6, 6, 5, 6, 6, 6, 5, 6, 6, 6, 6, 5, 6, 6, 6, 5, 6, 6, 6, 6, 5, 6, 6, 6, 6, 5, 6, 6, 6, 5, 6, 6, 6, 6, 5, 6, 6, 6, 6, 5, 6, 6, 6, 5, 6, 6, 6, 6, 5, 6, 6, 6, 5, 6, 6, 6, 6, 5, 6, 6, 6, 6, 5, 6, 6, 6, 5, 6, 6, 6, 6, 5, 6, 6, 6, 6, 5, 6, 6, 6, 5, 6, 6, 6, 6, 5, 6, 6, 6, 6, 5, 6, 6, 6, 5, 6, 6, 6, 6, 5, 6, 6, 6, 5, 6, 6, 6, 6, 5, 6, 6, 6, 6, 5, 6, 6, 6, 5, 6, 6, 6, 6, 5, 6, 6, 6, 6, 5, 6, 6, 6, 5, 6, 6, 6, 6, 5, 6, 6, 6, 6, 5, 6, 6, 6, 5, 6, 6, 6, 6, 5, 6, 6, 6, 5, 6, 6, 6, 6, 5, 6, 6, 6, 6, 5, 6, 6, 6, 5, 6, 6, 6, 6, 5, 6, 6, 6, 6, 5, 6, 6, 6, 5, 6, 6, 6, 6, 5, 6, 6, 6, 6, 5, 6, 6, 6, 5, 6, 6, 6, 6, 5, 6, 6, 6, 5, 6, 6, 6, 6, 5, 6, 6, 6, 6, 5, 6, 6, 6, 5, 6, 6, 6, 6, 5, 6, 6, 6, 6, 5, 6, 6, 6, 5, 6, 6, 6, 6, 5, 6, 6, 6, 6, 5, 6, 6, 6, 5, 6, 6, 6, 6, 5, 6, 6, 6, 5, 6, 6, 6, 6, 5, 6, 6, 6, 6, 5, 6, 6, 6, 5, 6, 6, 6, 6, 5, 6, 6, 6, 6, 5, 6, 6, 6, 5, 6, 6, 6, 6, 5, 6, 6, 6, 6, 5, 6, 6, 6, 5, 6, 6, 6, 6, 5, 6, 6, 6, 5, 6, 6, 6, 6, 5, 6, 6, 6, 6, 5, 6, 6, 6, 5, 6, 6, 6, 6, 5, 6, 6, 6, 6, 5, 6, 6, 6, 5, 6, 6, 6, 6, 5, 6, 6, 6, 6, 5, 6, 6, 6, 5, 6, 6, 6, 6, 5, 6, 6, 6, 5, 6, 6, 6, 6, 5, 6, 6, 6, 6, 5, 6, 6, 6, 5, 6, 6, 6, 6, 5, 6, 6, 6, 6, 5, 6, 6, 6, 5, 6, 6, 6, 6, 5, 6, 6, 6, 6, 5, 6, 6, 6, 5, 6, 6, 6, 6, 5, 6, 6, 6, 5, 6, 6, 6, 6, 5, 6, 6, 6, 6, 5, 6, 6, 6, 5, 6, 6, 6, 6, 5, 6, 6, 6, 6, 5, 6, 6, 6, 5, 6, 6, 6, 6, 5, 6, 6, 6, 5, 6, 6, 6, 6, 5, 6, 6, 6, 6, 5, 6, 6, 6, 5, 6, 6, 6, 6, 5, 6, 6, 6, 6, 5, 6, 6, 6, 5, 6, 6, 6, 6, 5, 6, 6, 6, 6, 5, 6, 6, 6, 5, 6, 6, 6, 6, 5, 6, 6, 6, 5, 6, 6, 6, 6, 5, 6, 6, 6, 6, 5, 6, 6, 6, 5, 6, 6, 6, 6, 5, 6, 6, 6, 6, 5, 6, 6, 6, 5, 6, 6, 6, 6, 5, 6, 6, 6, 6, 5, 6, 6, 6, 5, 6, 6, 6, 6, 5, 6, 6, 6, 5, 6, 6, 6, 6, 5, 6, 6, 6, 6, 5, 6, 6, 6, 5, 6, 6, 6, 6, 5, 6, 6, 6, 6, 5, 6, 6, 6, 5, 6, 6, 6, 6, 5, 6, 6, 6, 6, 5, 6, 6, 6, 5, 6, 6, 6, 6, 5, 6, 6, 6, 5, 6, 6, 6, 6, 5, 6, 6, 6, 6, 5, 6, 6, 6, 5, 6, 6, 6, 6, 5, 6, 6, 6, 6, 5, 6, 6, 6, 5, 6, 6, 6, 6, 5, 6, 6, 6, 6, 5, 6, 6, 6, 5, 6, 6, 6, 6, 5, 6, 6, 6, 5, 6, 6, 6, 6, 5, 6, 6, 6, 6, 5, 6, 6, 6, 5, 6, 6, 6, 6, 5, 6, 6, 6, 6, 5, 6, 6, 6, 5, 6, 6, 6, 6, 5, 6, 6, 6, 6, 5, 6, 6, 6, 5, 6, 6, 6, 6, 5, 6, 6, 6, 5, 6, 6, 6, 6, 5, 6, 6, 6, 6, 5, 6, 6, 6, 5, 6, 6, 6, 6, 5, 6, 6, 6, 6, 5, 6, 6, 6, 5, 6, 6, 6, 6, 5, 6, 6, 6, 6, 5, 6, 6, 6, 5, 6, 6, 6, 6, 5, 6, 6, 6, 5, 6, 6, 6, 6, 5, 6, 6, 6, 6, 5, 6, 6, 6, 5, 6, 6, 6, 6, 5, 6, 6, 6, 6, 5, 6, 6, 6, 5, 6, 6, 6, 6, 5, 6, 6, 6, 5, 6, 6, 6, 6, 5, 6, 6, 6, 6, 5, 6, 6, 6, 5, 6, 6, 6, 6, 5, 6, 6, 6, 6, 5, 6, 6, 6, 5, 6, 6, 6, 6, 5, 6, 6, 6, 6, 5, 6, 6, 6, 5, 6, 6, 6, 6, 5, 6, 6, 6]\n"
     ]
    }
   ],
   "source": [
    "# Printing errors of model\n",
    "\n",
    "print(model21.errors)"
   ]
  },
  {
   "cell_type": "code",
   "execution_count": 63,
   "metadata": {},
   "outputs": [
    {
     "data": {
      "text/plain": [
       "[<matplotlib.lines.Line2D at 0x1a1819b890>]"
      ]
     },
     "execution_count": 63,
     "metadata": {},
     "output_type": "execute_result"
    },
    {
     "data": {
      "image/png": "[encoded data removed]",
      "text/plain": [
       "<Figure size 1080x864 with 1 Axes>"
      ]
     },
     "metadata": {
      "needs_background": "light"
     },
     "output_type": "display_data"
    }
   ],
   "source": [
    "# Check the performance of model by ploting the errors to show whether the errors are dropping\n",
    "fig= plt.figure(figsize=(15,12))\n",
    "\n",
    "epochs = range(1,(1+len(model21.errors)))\n",
    "misclassfication = model21.errors\n",
    "marker = \"o\"\n",
    "\n",
    "plt.xlabel(\"Number of Iterations\")\n",
    "plt.ylabel(\"Misclassifications\")\n",
    "plt.title('Performance graph showing misclassification reduction over iterations')\n",
    "\n",
    "\n",
    "plt.plot(epochs,misclassfication, marker = marker)"
   ]
  },
  {
   "cell_type": "code",
   "execution_count": 64,
   "metadata": {},
   "outputs": [
    {
     "data": {
      "text/plain": [
       "array([1, 0, 1, 0, 1, 1, 1, 1, 1, 1, 1, 1, 0, 1, 0, 0, 1, 1, 0, 0, 1, 0,\n",
       "       1, 1, 1, 1, 0, 1, 0, 0, 1, 0, 1, 1, 1, 1, 1, 1, 1, 1, 0, 1, 0, 0,\n",
       "       0, 1, 0, 0, 1, 1, 1, 1, 1, 0, 1, 1, 1, 1, 0, 0, 0, 0, 1, 1, 1, 0,\n",
       "       0, 1, 1, 1, 1, 1, 0, 0, 1, 1, 1, 0, 1, 0, 1, 0, 1, 1, 0, 1, 0, 0,\n",
       "       0, 0, 1, 1, 1, 1, 0, 0, 1, 1, 0, 0])"
      ]
     },
     "execution_count": 64,
     "metadata": {},
     "output_type": "execute_result"
    }
   ],
   "source": [
    "# Predicting the values of test dataset using model\n",
    "\n",
    "pred_y21 = model21.predict(X21_test)\n",
    "pred_y21\n"
   ]
  },
  {
   "cell_type": "code",
   "execution_count": 65,
   "metadata": {},
   "outputs": [
    {
     "name": "stdout",
     "output_type": "stream",
     "text": [
      "############# Accuracy #############\n",
      "Accuracy output of model is:  0.95\n",
      "\n",
      "\n",
      "############# Confusion Matrix #############\n",
      "[[38  4]\n",
      " [ 1 57]]\n",
      "\n",
      "\n",
      "############# Classification Report #############\n",
      "              precision    recall  f1-score   support\n",
      "\n",
      "         0.0       0.97      0.90      0.94        42\n",
      "         1.0       0.93      0.98      0.96        58\n",
      "\n",
      "    accuracy                           0.95       100\n",
      "   macro avg       0.95      0.94      0.95       100\n",
      "weighted avg       0.95      0.95      0.95       100\n",
      "\n"
     ]
    }
   ],
   "source": [
    "# Printing Accuracy, Confusion Matrix and Classification Report\n",
    "\n",
    "print ('############# Accuracy #############')\n",
    "print(\"Accuracy output of model is: \", accuracy_score(y21_test, pred_y21))\n",
    "print (\"\\n\")\n",
    "results = confusion_matrix(y21_test, pred_y21)\n",
    "print ('############# Confusion Matrix #############')\n",
    "print (\"{}\".format(results))\n",
    "print(\"\\n\")\n",
    "\n",
    "print ('############# Classification Report #############')\n",
    "print (classification_report(y21_test, pred_y21))"
   ]
  },
  {
   "cell_type": "code",
   "execution_count": 66,
   "metadata": {},
   "outputs": [
    {
     "name": "stderr",
     "output_type": "stream",
     "text": [
      "'c' argument looks like a single numeric RGB or RGBA sequence, which should be avoided as value-mapping will have precedence in case its length matches with 'x' & 'y'.  Please use a 2-D array with a single row if you really want to specify the same RGB or RGBA value for all points.\n",
      "'c' argument looks like a single numeric RGB or RGBA sequence, which should be avoided as value-mapping will have precedence in case its length matches with 'x' & 'y'.  Please use a 2-D array with a single row if you really want to specify the same RGB or RGBA value for all points.\n"
     ]
    },
    {
     "data": {
      "image/png": "[encoded data removed]",
      "text/plain": [
       "<Figure size 432x288 with 1 Axes>"
      ]
     },
     "metadata": {
      "needs_background": "light"
     },
     "output_type": "display_data"
    }
   ],
   "source": [
    "# Plotting the decision boundary using whole dataset\n",
    "\n",
    "x21_1 = X21\n",
    "y21_1 = y21\n",
    "classifier = model21\n",
    "decision_boundry(x21_1,y21_1,classifier = model21,resolution = 0.01)"
   ]
  },
  {
   "cell_type": "markdown",
   "metadata": {},
   "source": [
    "From above accuracy, confusion matrix and decision boundary graphs, we conclude that Single layer perceptron does work on non-linearly separable data. However, it will produce high inaccuracy and will misclassify some data while generating the straight line. \n"
   ]
  },
  {
   "cell_type": "code",
   "execution_count": 67,
   "metadata": {},
   "outputs": [
    {
     "name": "stdout",
     "output_type": "stream",
     "text": [
      "[[-0.99169555 -1.81636541  1.        ]\n",
      " [-0.47793461 -0.62477059  1.        ]\n",
      " [ 0.80282868 -0.3968602   1.        ]\n",
      " ...\n",
      " [-2.16276642 -0.83162828  1.        ]\n",
      " [-1.71552026 -0.67187839  1.        ]\n",
      " [-0.02076937 -1.61887878  1.        ]]\n",
      "\n",
      "\n",
      "[[ 0.81416079  0.82878028  0.        ]\n",
      " [-0.69560389 -1.10080785  0.        ]\n",
      " [ 1.17381321  1.35520155  0.        ]\n",
      " ...\n",
      " [ 0.91852223  1.1744236   0.        ]\n",
      " [ 2.53316659  0.64332643  0.        ]\n",
      " [ 1.4258572   2.11907966  0.        ]]\n"
     ]
    },
    {
     "data": {
      "text/plain": [
       "(2000, 3)"
      ]
     },
     "execution_count": 67,
     "metadata": {},
     "output_type": "execute_result"
    }
   ],
   "source": [
    "# Making a new guassian dataset.\n",
    "# Generating dataset - class 1\n",
    "\n",
    "mu, sigma = -1, 1 # mean and standard deviation\n",
    "col0_class_1_g = np.random.normal(mu, sigma, 1000)\n",
    "col1_class_1_g = np.random.normal(mu, sigma, 1000)\n",
    "col2_class_1_g = [1]*1000\n",
    "class_1_g = np.stack((col0_class_1_g,col1_class_1_g,col2_class_1_g), axis = 1)\n",
    "print(class_1_g)\n",
    "\n",
    "\n",
    "# Generating dataset - class 2\n",
    "mu2, sigma2 = 1, 1 # mean and standard deviation\n",
    "col0_class_2_g = np.random.normal(mu2, sigma2, 1000)\n",
    "col1_class_2_g = np.random.normal(mu2, sigma2, 1000)\n",
    "col2_class_2_g = [0]*1000\n",
    "class_2_g = np.stack((col0_class_2_g,col1_class_2_g,col2_class_2_g), axis = 1)\n",
    "print(\"\\n\")\n",
    "print(class_2_g)\n",
    "\n",
    "# Merging class 1 and class 2 dataset to complete dataset. \n",
    "\n",
    "df_guassian1 = np.concatenate((class_1_g,class_2_g))\n",
    "df_guassian1.shape"
   ]
  },
  {
   "cell_type": "code",
   "execution_count": 68,
   "metadata": {},
   "outputs": [
    {
     "data": {
      "image/png": "[encoded data removed]",
      "text/plain": [
       "<Figure size 432x288 with 1 Axes>"
      ]
     },
     "metadata": {
      "needs_background": "light"
     },
     "output_type": "display_data"
    }
   ],
   "source": [
    "# Plotting the dataset to check whether data is linearly separable or not.\n",
    "\n",
    "plot_data(df_guassian1, \"class_1\", \"class_2\", \"Input 1\", \"Input 2\")"
   ]
  },
  {
   "cell_type": "code",
   "execution_count": 69,
   "metadata": {},
   "outputs": [],
   "source": [
    "# Splitting dataset in train and test dataset\n",
    "\n",
    "X21_g = df_guassian1[:, 0:2]\n",
    "y21_g = df_guassian1[:, -1]\n",
    "X21_g_train,X21_g_test,y21_g_train,y21_g_test = train_test_split(X21_g, y21_g, test_size = 0.2, random_state = 2019)"
   ]
  },
  {
   "cell_type": "code",
   "execution_count": 70,
   "metadata": {},
   "outputs": [
    {
     "data": {
      "text/plain": [
       "<__main__.SLP at 0x1a1a88f550>"
      ]
     },
     "execution_count": 70,
     "metadata": {},
     "output_type": "execute_result"
    }
   ],
   "source": [
    "# Running the single layer perceptron class and prepare the model\n",
    "\n",
    "lr = 0.01\n",
    "epochs = 1000\n",
    "\n",
    "model21_g= SLP(lr = lr, epochs = epochs)\n",
    "model21_g"
   ]
  },
  {
   "cell_type": "code",
   "execution_count": 71,
   "metadata": {},
   "outputs": [
    {
     "data": {
      "text/plain": [
       "<__main__.SLP at 0x1a1a88f550>"
      ]
     },
     "execution_count": 71,
     "metadata": {},
     "output_type": "execute_result"
    }
   ],
   "source": [
    "# Train the model using train dataset\n",
    "\n",
    "model21_g.fit(X21_g_train, y21_g_train)"
   ]
  },
  {
   "cell_type": "code",
   "execution_count": 72,
   "metadata": {},
   "outputs": [
    {
     "name": "stdout",
     "output_type": "stream",
     "text": [
      "[226, 172, 167, 167, 167, 167, 167, 167, 167, 167, 167, 167, 167, 167, 167, 167, 167, 167, 167, 167, 167, 167, 167, 167, 167, 167, 167, 167, 167, 167, 167, 167, 167, 167, 167, 167, 167, 167, 167, 167, 167, 167, 167, 167, 167, 167, 167, 167, 167, 167, 167, 167, 167, 167, 167, 167, 167, 166, 167, 167, 167, 167, 167, 167, 167, 167, 166, 167, 167, 167, 167, 167, 167, 167, 167, 167, 167, 167, 167, 167, 167, 167, 167, 167, 167, 167, 167, 167, 167, 167, 167, 167, 167, 167, 167, 167, 167, 167, 167, 167, 167, 167, 167, 167, 165, 168, 167, 167, 167, 167, 167, 167, 167, 167, 167, 167, 167, 167, 167, 167, 167, 167, 167, 167, 167, 166, 167, 167, 167, 167, 167, 167, 167, 167, 166, 167, 167, 167, 167, 167, 167, 167, 167, 167, 167, 167, 167, 167, 167, 167, 167, 167, 167, 167, 167, 167, 167, 167, 167, 167, 167, 167, 167, 167, 167, 167, 167, 167, 167, 167, 167, 167, 165, 168, 167, 167, 167, 167, 167, 167, 167, 167, 167, 167, 167, 167, 167, 167, 167, 167, 167, 167, 167, 167, 166, 167, 167, 167, 167, 167, 167, 167, 166, 167, 167, 167, 167, 167, 167, 167, 167, 167, 167, 167, 167, 167, 167, 167, 167, 167, 167, 167, 167, 167, 167, 167, 167, 167, 167, 167, 167, 167, 167, 167, 167, 167, 167, 167, 167, 167, 165, 168, 167, 167, 167, 167, 167, 167, 167, 167, 167, 167, 167, 167, 167, 167, 167, 167, 167, 167, 167, 167, 166, 167, 167, 167, 167, 167, 167, 167, 167, 166, 167, 167, 167, 167, 167, 167, 167, 167, 167, 167, 167, 167, 167, 167, 167, 167, 167, 167, 167, 167, 167, 167, 167, 167, 167, 167, 167, 167, 167, 167, 167, 167, 167, 167, 167, 167, 166, 167, 167, 167, 167, 167, 167, 167, 166, 167, 167, 167, 167, 167, 167, 167, 167, 167, 167, 167, 167, 167, 167, 167, 167, 167, 167, 167, 167, 167, 167, 167, 167, 167, 167, 167, 167, 167, 167, 167, 167, 167, 167, 167, 166, 167, 167, 167, 167, 167, 167, 167, 167, 167, 167, 166, 167, 167, 167, 167, 167, 167, 167, 167, 167, 167, 167, 167, 167, 167, 167, 167, 167, 167, 167, 167, 167, 167, 167, 167, 167, 167, 167, 167, 167, 167, 167, 167, 167, 167, 167, 166, 167, 167, 167, 167, 167, 167, 167, 167, 167, 166, 167, 167, 167, 167, 167, 167, 167, 167, 167, 167, 167, 167, 167, 167, 167, 167, 167, 167, 167, 167, 167, 167, 167, 167, 167, 167, 167, 167, 167, 167, 167, 167, 167, 167, 167, 166, 167, 167, 167, 167, 167, 167, 167, 167, 166, 167, 167, 167, 167, 167, 167, 167, 167, 167, 167, 167, 167, 167, 167, 167, 167, 167, 167, 167, 167, 167, 167, 167, 167, 167, 167, 167, 167, 167, 167, 167, 167, 167, 167, 167, 167, 167, 165, 168, 167, 167, 167, 167, 167, 167, 167, 167, 167, 167, 167, 167, 167, 167, 167, 167, 167, 167, 167, 166, 167, 167, 167, 167, 167, 167, 167, 167, 166, 167, 167, 167, 167, 167, 167, 167, 167, 167, 167, 167, 167, 167, 167, 167, 167, 167, 167, 167, 167, 167, 167, 167, 167, 167, 167, 167, 167, 167, 167, 167, 167, 167, 167, 167, 167, 167, 165, 168, 167, 167, 167, 167, 167, 167, 167, 167, 167, 167, 167, 167, 167, 167, 167, 167, 167, 167, 167, 167, 166, 167, 167, 167, 167, 167, 167, 167, 166, 167, 167, 167, 167, 167, 167, 167, 167, 167, 167, 167, 167, 167, 167, 167, 167, 167, 167, 167, 167, 167, 167, 167, 167, 167, 167, 167, 167, 167, 167, 167, 167, 167, 167, 167, 167, 167, 165, 168, 167, 167, 167, 167, 167, 167, 167, 167, 167, 167, 167, 167, 167, 167, 167, 167, 167, 167, 167, 167, 166, 167, 167, 167, 167, 167, 167, 167, 167, 166, 167, 167, 167, 167, 167, 167, 167, 167, 167, 167, 167, 167, 167, 167, 167, 167, 167, 167, 167, 167, 167, 167, 167, 167, 167, 167, 167, 167, 167, 167, 167, 167, 167, 167, 167, 167, 166, 167, 167, 167, 167, 167, 167, 167, 166, 167, 167, 167, 167, 167, 167, 167, 167, 167, 167, 167, 167, 167, 167, 167, 167, 167, 167, 167, 167, 167, 167, 167, 167, 167, 167, 167, 167, 167, 167, 167, 167, 167, 167, 167, 166, 167, 167, 167, 167, 167, 167, 167, 167, 167, 167, 166, 167, 167, 167, 167, 167, 167, 167, 167, 167, 167, 167, 167, 167, 167, 167, 167, 167, 167, 167, 167, 167, 167, 167, 167, 167, 167, 167, 167, 167, 167, 167, 167, 167, 167, 167, 166, 167, 167, 167, 167, 167, 167, 167, 167, 167, 166, 167, 167, 167, 167, 167, 167, 167, 167, 167, 167, 167, 167, 167, 167, 167, 167, 167, 167, 167, 167, 167, 167, 167, 167, 167, 167, 167, 167, 167, 167, 167, 167, 167, 167, 167, 166, 167, 167, 167, 167, 167, 167, 167, 167, 166, 167, 167, 167, 167, 167, 167, 167, 167, 167, 167, 167, 167, 167, 167, 167, 167, 167, 167, 167, 167, 167, 167, 167, 167, 167, 167, 167, 167, 167, 167, 167, 167, 167, 167, 167, 167, 167, 165, 168, 167, 167, 167, 167, 167, 167, 167, 167, 167, 167, 167, 167, 167, 167, 167, 167, 167, 167, 167, 166, 167, 167, 167, 167, 167, 167, 167, 167, 166, 167, 167, 167, 167, 167, 167, 167, 167, 167, 167, 167, 167, 167, 167, 167, 167, 167, 167, 167, 167, 167, 167, 167, 167, 167, 167, 167, 167, 167, 167, 167, 167, 167, 167, 167, 167, 167, 165, 168, 167, 167, 167, 167, 167, 167, 167, 167, 167, 167, 167, 167, 167, 167, 167, 167, 167, 167, 167, 167, 166, 167, 167, 167, 167, 167, 167, 167, 166, 167, 167, 167, 167, 167, 167, 167, 167, 167, 167, 167, 167, 167, 167, 167, 167, 167, 167, 167, 167, 167]\n"
     ]
    }
   ],
   "source": [
    "# Printing errors of model\n",
    "\n",
    "print(model21_g.errors)"
   ]
  },
  {
   "cell_type": "code",
   "execution_count": 73,
   "metadata": {},
   "outputs": [
    {
     "data": {
      "text/plain": [
       "[<matplotlib.lines.Line2D at 0x1a1a797a90>]"
      ]
     },
     "execution_count": 73,
     "metadata": {},
     "output_type": "execute_result"
    },
    {
     "data": {
      "image/png": "[encoded data removed]",
      "text/plain": [
       "<Figure size 1080x864 with 1 Axes>"
      ]
     },
     "metadata": {
      "needs_background": "light"
     },
     "output_type": "display_data"
    }
   ],
   "source": [
    "# Check the performance of model by ploting the errors to show whether the errors are dropping\n",
    "\n",
    "epochs = range(1,(1+len(model21_g.errors)))\n",
    "misclassfication = model21_g.errors\n",
    "marker = \"o\"\n",
    "\n",
    "\n",
    "fig= plt.figure(figsize=(15,12))\n",
    "\n",
    "plt.xlabel(\"Number of Iterations\")\n",
    "plt.ylabel(\"Misclassifications\")\n",
    "plt.title('Performance graph showing misclassification reduction over iterations')\n",
    "plt.plot(epochs,\n",
    "        misclassfication,\n",
    "        marker = marker)"
   ]
  },
  {
   "cell_type": "code",
   "execution_count": 74,
   "metadata": {},
   "outputs": [
    {
     "data": {
      "text/plain": [
       "array([1, 0, 0, 1, 1, 0, 1, 1, 1, 1, 1, 1, 0, 0, 0, 0, 1, 0, 1, 1, 0, 1,\n",
       "       1, 1, 0, 1, 1, 0, 1, 1, 1, 1, 1, 0, 0, 0, 0, 1, 1, 0, 1, 1, 0, 1,\n",
       "       1, 0, 0, 0, 1, 1, 1, 0, 0, 1, 1, 0, 1, 1, 0, 0, 1, 1, 0, 1, 0, 1,\n",
       "       0, 0, 1, 0, 1, 1, 1, 1, 0, 0, 0, 0, 0, 0, 1, 1, 0, 1, 1, 0, 1, 1,\n",
       "       1, 1, 1, 0, 1, 0, 1, 0, 0, 0, 1, 1, 1, 1, 1, 0, 0, 0, 1, 1, 1, 1,\n",
       "       1, 0, 0, 0, 1, 0, 0, 1, 0, 1, 1, 1, 0, 1, 0, 0, 0, 1, 1, 1, 0, 1,\n",
       "       0, 1, 1, 0, 0, 1, 1, 1, 1, 0, 0, 0, 0, 1, 0, 0, 0, 1, 1, 0, 0, 0,\n",
       "       0, 1, 0, 0, 1, 0, 0, 1, 0, 1, 1, 0, 0, 1, 1, 0, 0, 1, 1, 1, 0, 1,\n",
       "       1, 0, 0, 0, 1, 0, 1, 0, 1, 1, 0, 1, 1, 0, 0, 0, 1, 1, 1, 0, 1, 1,\n",
       "       1, 1, 0, 0, 0, 0, 1, 1, 0, 1, 0, 1, 1, 1, 1, 1, 0, 1, 0, 0, 1, 1,\n",
       "       1, 0, 1, 0, 1, 0, 0, 1, 0, 1, 1, 1, 1, 1, 0, 0, 0, 1, 0, 1, 1, 1,\n",
       "       1, 0, 1, 0, 1, 1, 1, 1, 0, 1, 1, 0, 0, 1, 1, 0, 1, 1, 0, 0, 0, 0,\n",
       "       0, 1, 1, 1, 1, 1, 1, 1, 0, 1, 0, 1, 0, 1, 0, 1, 0, 1, 0, 1, 1, 0,\n",
       "       1, 0, 0, 0, 1, 1, 1, 1, 1, 0, 0, 1, 0, 0, 1, 0, 1, 1, 1, 0, 1, 1,\n",
       "       1, 0, 0, 0, 1, 1, 1, 1, 0, 1, 0, 0, 0, 0, 0, 1, 0, 0, 1, 1, 1, 0,\n",
       "       1, 0, 0, 1, 1, 0, 1, 1, 0, 0, 1, 0, 1, 1, 1, 0, 1, 1, 0, 1, 0, 1,\n",
       "       0, 1, 0, 1, 0, 1, 1, 1, 0, 0, 1, 0, 1, 1, 1, 1, 0, 0, 1, 0, 0, 1,\n",
       "       0, 0, 1, 1, 1, 1, 0, 1, 1, 1, 1, 0, 0, 1, 1, 0, 1, 1, 1, 0, 0, 1,\n",
       "       1, 1, 1, 1])"
      ]
     },
     "execution_count": 74,
     "metadata": {},
     "output_type": "execute_result"
    }
   ],
   "source": [
    "# Predicting the values of test dataset using model\n",
    "\n",
    "pred_y21_g = model21_g.predict(X21_g_test)\n",
    "pred_y21_g"
   ]
  },
  {
   "cell_type": "code",
   "execution_count": 75,
   "metadata": {},
   "outputs": [
    {
     "name": "stdout",
     "output_type": "stream",
     "text": [
      "############# Accuracy #############\n",
      "Accuracy output of model is:  0.895\n",
      "\n",
      "\n",
      "############# Confusion Matrix #############\n",
      "[[171  38]\n",
      " [  4 187]]\n",
      "\n",
      "\n",
      "############# Classification Report #############\n",
      "              precision    recall  f1-score   support\n",
      "\n",
      "         0.0       0.98      0.82      0.89       209\n",
      "         1.0       0.83      0.98      0.90       191\n",
      "\n",
      "    accuracy                           0.90       400\n",
      "   macro avg       0.90      0.90      0.89       400\n",
      "weighted avg       0.91      0.90      0.89       400\n",
      "\n"
     ]
    }
   ],
   "source": [
    "# Printing Accuracy, Confusion Matrix and Classification Report\n",
    "\n",
    "print ('############# Accuracy #############')\n",
    "print(\"Accuracy output of model is: \", accuracy_score(y21_g_test, pred_y21_g))\n",
    "print (\"\\n\")\n",
    "results = confusion_matrix(y21_g_test, pred_y21_g)\n",
    "print ('############# Confusion Matrix #############')\n",
    "print (\"{}\".format(results))\n",
    "print(\"\\n\")\n",
    "\n",
    "print ('############# Classification Report #############')\n",
    "print (classification_report(y21_g_test, pred_y21_g))"
   ]
  },
  {
   "cell_type": "code",
   "execution_count": 76,
   "metadata": {},
   "outputs": [
    {
     "name": "stderr",
     "output_type": "stream",
     "text": [
      "'c' argument looks like a single numeric RGB or RGBA sequence, which should be avoided as value-mapping will have precedence in case its length matches with 'x' & 'y'.  Please use a 2-D array with a single row if you really want to specify the same RGB or RGBA value for all points.\n",
      "'c' argument looks like a single numeric RGB or RGBA sequence, which should be avoided as value-mapping will have precedence in case its length matches with 'x' & 'y'.  Please use a 2-D array with a single row if you really want to specify the same RGB or RGBA value for all points.\n"
     ]
    },
    {
     "data": {
      "image/png": "[encoded data removed]",
      "text/plain": [
       "<Figure size 432x288 with 1 Axes>"
      ]
     },
     "metadata": {
      "needs_background": "light"
     },
     "output_type": "display_data"
    }
   ],
   "source": [
    "# Plotting the decision boundary using whole dataset\n",
    "\n",
    "x21_1_g = X21_g\n",
    "y21_1_g = y21_g\n",
    "classifier = model21_g\n",
    "decision_boundry(x21_1_g,y21_1_g,classifier = model21_g,resolution = 0.01)"
   ]
  },
  {
   "cell_type": "markdown",
   "metadata": {},
   "source": [
    "Again, as in previous dataset, from above accuracy, confusion matrix and decision boundary graphs, we conclude that Single layer perceptron does work on non-linearly separable data. However, model has resulted in high inaccuracy and misclassified some data."
   ]
  },
  {
   "cell_type": "markdown",
   "metadata": {},
   "source": [
    "## Question 3"
   ]
  },
  {
   "cell_type": "markdown",
   "metadata": {},
   "source": [
    "## AND Logic function"
   ]
  },
  {
   "cell_type": "code",
   "execution_count": 77,
   "metadata": {},
   "outputs": [
    {
     "data": {
      "text/plain": [
       "array([[0, 1, 0],\n",
       "       [0, 0, 0],\n",
       "       [1, 1, 1],\n",
       "       [1, 0, 0]])"
      ]
     },
     "execution_count": 77,
     "metadata": {},
     "output_type": "execute_result"
    }
   ],
   "source": [
    "# Generating Datasets\n",
    "\n",
    "x1_and = [0,0,1,1]\n",
    "x2_and = [1,0,1,0]\n",
    "y_and = [0,0,1,0]\n",
    "\n",
    "and_dataset = np.stack((x1_and,x2_and,y_and), axis = 1)\n",
    "and_dataset"
   ]
  },
  {
   "cell_type": "code",
   "execution_count": 78,
   "metadata": {},
   "outputs": [
    {
     "data": {
      "image/png": "[encoded data removed]",
      "text/plain": [
       "<Figure size 432x288 with 1 Axes>"
      ]
     },
     "metadata": {
      "needs_background": "light"
     },
     "output_type": "display_data"
    }
   ],
   "source": [
    "# Ploting classes to see whether the data is linearly separable or not, using function defined above.\n",
    "\n",
    "plot_data(and_dataset, \"class_1\", \"class_2\", \"Input 1\", \"Input 2\")"
   ]
  },
  {
   "cell_type": "markdown",
   "metadata": {},
   "source": [
    "From above plot, it is clearly visible that binary classes are linearly separable."
   ]
  },
  {
   "cell_type": "markdown",
   "metadata": {},
   "source": [
    "## OR Logic function"
   ]
  },
  {
   "cell_type": "code",
   "execution_count": 79,
   "metadata": {},
   "outputs": [
    {
     "data": {
      "text/plain": [
       "array([[0, 1, 1],\n",
       "       [0, 0, 0],\n",
       "       [1, 1, 1],\n",
       "       [1, 0, 1]])"
      ]
     },
     "execution_count": 79,
     "metadata": {},
     "output_type": "execute_result"
    }
   ],
   "source": [
    "x1_or = [0,0,1,1]\n",
    "x2_or = [1,0,1,0]\n",
    "y_or = [1,0,1,1]\n",
    "\n",
    "or_dataset = np.stack((x1_or,x2_or,y_or), axis = 1)\n",
    "or_dataset"
   ]
  },
  {
   "cell_type": "code",
   "execution_count": 80,
   "metadata": {},
   "outputs": [
    {
     "data": {
      "image/png": "[encoded data removed]",
      "text/plain": [
       "<Figure size 432x288 with 1 Axes>"
      ]
     },
     "metadata": {
      "needs_background": "light"
     },
     "output_type": "display_data"
    }
   ],
   "source": [
    "plot_data(or_dataset, \"class_1\", \"class_2\", \"Input 1\", \"Input 2\")"
   ]
  },
  {
   "cell_type": "markdown",
   "metadata": {},
   "source": [
    "From above plot, it is clearly visible that binary classes are linearly separable."
   ]
  },
  {
   "cell_type": "markdown",
   "metadata": {},
   "source": [
    "## XOR Logic function"
   ]
  },
  {
   "cell_type": "code",
   "execution_count": 81,
   "metadata": {},
   "outputs": [
    {
     "data": {
      "text/plain": [
       "array([[0, 1, 0],\n",
       "       [0, 0, 1],\n",
       "       [1, 1, 1],\n",
       "       [1, 0, 0]])"
      ]
     },
     "execution_count": 81,
     "metadata": {},
     "output_type": "execute_result"
    }
   ],
   "source": [
    "x1_xor = [0,0,1,1]\n",
    "x2_xor = [1,0,1,0]\n",
    "y_xor = [0,1,1,0]\n",
    "\n",
    "xor_dataset = np.stack((x1_xor,x2_xor,y_xor), axis = 1)\n",
    "xor_dataset"
   ]
  },
  {
   "cell_type": "code",
   "execution_count": 82,
   "metadata": {},
   "outputs": [
    {
     "data": {
      "image/png": "[encoded data removed]",
      "text/plain": [
       "<Figure size 432x288 with 1 Axes>"
      ]
     },
     "metadata": {
      "needs_background": "light"
     },
     "output_type": "display_data"
    }
   ],
   "source": [
    "plot_data(xor_dataset, \"class_1\", \"class_2\", \"Input 1\", \"Input 2\")"
   ]
  },
  {
   "cell_type": "markdown",
   "metadata": {},
   "source": [
    "From above plot, it is clearly visible that binary classes are not linearly separable."
   ]
  },
  {
   "cell_type": "markdown",
   "metadata": {},
   "source": [
    "########## ENDS ##########"
   ]
  }
 ],
 "metadata": {
  "kernelspec": {
   "display_name": "Python 3",
   "language": "python",
   "name": "python3"
  },
  "language_info": {
   "codemirror_mode": {
    "name": "ipython",
    "version": 3
   },
   "file_extension": ".py",
   "mimetype": "text/x-python",
   "name": "python",
   "nbconvert_exporter": "python",
   "pygments_lexer": "ipython3",
   "version": "3.7.4"
  }
 },
 "nbformat": 4,
 "nbformat_minor": 2
}
